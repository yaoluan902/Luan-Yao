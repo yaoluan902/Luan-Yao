{
  "nbformat": 4,
  "nbformat_minor": 0,
  "metadata": {
    "colab": {
      "name": "Data Manipulation in Python II 06/05.ipynb",
      "provenance": [],
      "collapsed_sections": [],
      "include_colab_link": true
    },
    "kernelspec": {
      "name": "python3",
      "display_name": "Python 3"
    }
  },
  "cells": [
    {
      "cell_type": "markdown",
      "metadata": {
        "id": "view-in-github",
        "colab_type": "text"
      },
      "source": [
        "<a href=\"https://colab.research.google.com/github/yaoluan902/Luan-Yao/blob/master/Data_Manipulation_in_Python_II_06_05.ipynb\" target=\"_parent\"><img src=\"https://colab.research.google.com/assets/colab-badge.svg\" alt=\"Open In Colab\"/></a>"
      ]
    },
    {
      "cell_type": "markdown",
      "metadata": {
        "id": "OBEByZPKJ-fi",
        "colab_type": "text"
      },
      "source": [
        "#Data Manipulation in Python II"
      ]
    },
    {
      "cell_type": "markdown",
      "metadata": {
        "id": "96SKJkUhpNzR",
        "colab_type": "text"
      },
      "source": [
        "**Objectives**\n",
        "* Learn Pandas Basics"
      ]
    },
    {
      "cell_type": "markdown",
      "metadata": {
        "id": "ekD-baKJwISB",
        "colab_type": "text"
      },
      "source": [
        "**Things need to know**\n",
        "* 对于0基础的同学，以了解为主\n",
        "* 不需要可以从0把code写出来\n",
        "* 这部分code与算法课程code的思维不一样\n",
        "* 需要下课自己去跑一下code，尽量去理解\n",
        "* 工具终归是辅助我们的，先尽力学会一个\n",
        "* 逐步掌握python code debug能力"
      ]
    },
    {
      "cell_type": "markdown",
      "metadata": {
        "id": "S7LQMWhigQVD",
        "colab_type": "text"
      },
      "source": [
        "## Pandas\n",
        "\n",
        "**Pandas** is a Python package providing fast, flexible, and expressive data structures designed to make working with “relational” or “labeled” data both easy and intuitive. It aims to be the fundamental high-level building block for doing practical, real world data analysis in Python. Additionally, it has the broader goal of becoming **the most powerful and flexible open source data analysis / manipulation tool available in any language**. It is already well on its way toward this goal.\n",
        "\n",
        "The two primary data structures of pandas, **Series (1-dimensional)** and **DataFrame (2-dimensional)**, handle the vast majority of typical use cases in finance, statistics, social science, and many areas of engineering. pandas is built on top of **NumPy** and is intended to integrate well within a scientific computing environment with many other 3rd party libraries."
      ]
    },
    {
      "cell_type": "markdown",
      "metadata": {
        "id": "MFzq7-k8Pz_7",
        "colab_type": "text"
      },
      "source": [
        "####**Load Data**"
      ]
    },
    {
      "cell_type": "code",
      "metadata": {
        "id": "Y6ehD29wPypS",
        "colab_type": "code",
        "colab": {}
      },
      "source": [
        "import numpy as np\n",
        "import pandas as pd"
      ],
      "execution_count": 3,
      "outputs": []
    },
    {
      "cell_type": "code",
      "metadata": {
        "id": "17uRXLoERkSI",
        "colab_type": "code",
        "colab": {}
      },
      "source": [
        "# read data from URL\n",
        "iris = 'https://gist.githubusercontent.com/curran/a08a1080b88344b0c8a7/raw/639388c2cbc2120a14dcf466e85730eb8be498bb/iris.csv'\n",
        "df_iris = pd.read_csv(iris, sep=',') #sep: seperator \n",
        "\n",
        "tsv tab\n",
        "csv comma "
      ],
      "execution_count": 4,
      "outputs": []
    },
    {
      "cell_type": "code",
      "metadata": {
        "id": "QBT5n19WSeKh",
        "colab_type": "code",
        "colab": {}
      },
      "source": [
        "# Read data from Google Drive (recommend)\n",
        "# Get sharable link:\n",
        "# https://drive.google.com/file/d/1AbJ1P9aXcjut9ox5lh6oDx4uYnLY2HBQ/view\n",
        "# format: /d/<id>/view\n",
        "# copy out the id: 1AbJ1P9aXcjut9ox5lh6oDx4uYnLY2HBQ\n",
        "# replace the string in file_id\n",
        "#https://drive.google.com/file/d/1HVOPqlWrpX4F3V5TMJaUifyr_JSsQvuV/view?usp=sharing\n",
        "\n",
        "file_id='1AbJ1P9aXcjut9ox5lh6oDx4uYnLY2HBQ'\n",
        "\n",
        "link='https://drive.google.com/uc?export=download&id={FILE_ID}'\n",
        "csv_url=link.format(FILE_ID=file_id)\n",
        "\n",
        "df_uk_rain = pd.read_csv(csv_url)\n"
      ],
      "execution_count": 22,
      "outputs": []
    },
    {
      "cell_type": "code",
      "metadata": {
        "id": "ELBz4GbiywGq",
        "colab_type": "code",
        "colab": {}
      },
      "source": [
        "df_uk_rain.columns = ['water_year','rain_octsep', 'outflow_octsep',\n",
        "              'rain_decfeb', 'outflow_decfeb', 'rain_junaug', 'outflow_junaug']"
      ],
      "execution_count": 23,
      "outputs": []
    },
    {
      "cell_type": "code",
      "metadata": {
        "id": "QK1Zvc7LiCJ7",
        "colab_type": "code",
        "colab": {
          "base_uri": "https://localhost:8080/",
          "height": 204
        },
        "outputId": "7fa06e53-6289-48ba-a646-08860d3cadee"
      },
      "source": [
        "df_uk_rain.head()"
      ],
      "execution_count": 9,
      "outputs": [
        {
          "output_type": "execute_result",
          "data": {
            "text/html": [
              "<div>\n",
              "<style scoped>\n",
              "    .dataframe tbody tr th:only-of-type {\n",
              "        vertical-align: middle;\n",
              "    }\n",
              "\n",
              "    .dataframe tbody tr th {\n",
              "        vertical-align: top;\n",
              "    }\n",
              "\n",
              "    .dataframe thead th {\n",
              "        text-align: right;\n",
              "    }\n",
              "</style>\n",
              "<table border=\"1\" class=\"dataframe\">\n",
              "  <thead>\n",
              "    <tr style=\"text-align: right;\">\n",
              "      <th></th>\n",
              "      <th>water_year</th>\n",
              "      <th>rain_octsep</th>\n",
              "      <th>outflow_octsep</th>\n",
              "      <th>rain_decfeb</th>\n",
              "      <th>outflow_decfeb</th>\n",
              "      <th>rain_junaug</th>\n",
              "      <th>outflow_junaug</th>\n",
              "    </tr>\n",
              "  </thead>\n",
              "  <tbody>\n",
              "    <tr>\n",
              "      <th>0</th>\n",
              "      <td>1980</td>\n",
              "      <td>1182</td>\n",
              "      <td>5408</td>\n",
              "      <td>292</td>\n",
              "      <td>7248</td>\n",
              "      <td>174</td>\n",
              "      <td>2212</td>\n",
              "    </tr>\n",
              "    <tr>\n",
              "      <th>1</th>\n",
              "      <td>1981</td>\n",
              "      <td>1098</td>\n",
              "      <td>5112</td>\n",
              "      <td>257</td>\n",
              "      <td>7316</td>\n",
              "      <td>242</td>\n",
              "      <td>1936</td>\n",
              "    </tr>\n",
              "    <tr>\n",
              "      <th>2</th>\n",
              "      <td>1982</td>\n",
              "      <td>1156</td>\n",
              "      <td>5701</td>\n",
              "      <td>330</td>\n",
              "      <td>8567</td>\n",
              "      <td>124</td>\n",
              "      <td>1802</td>\n",
              "    </tr>\n",
              "    <tr>\n",
              "      <th>3</th>\n",
              "      <td>1983</td>\n",
              "      <td>993</td>\n",
              "      <td>4265</td>\n",
              "      <td>391</td>\n",
              "      <td>8905</td>\n",
              "      <td>141</td>\n",
              "      <td>1078</td>\n",
              "    </tr>\n",
              "    <tr>\n",
              "      <th>4</th>\n",
              "      <td>1984</td>\n",
              "      <td>1182</td>\n",
              "      <td>5364</td>\n",
              "      <td>217</td>\n",
              "      <td>5813</td>\n",
              "      <td>343</td>\n",
              "      <td>4313</td>\n",
              "    </tr>\n",
              "  </tbody>\n",
              "</table>\n",
              "</div>"
            ],
            "text/plain": [
              "   water_year  rain_octsep  ...  rain_junaug  outflow_junaug\n",
              "0        1980         1182  ...          174            2212\n",
              "1        1981         1098  ...          242            1936\n",
              "2        1982         1156  ...          124            1802\n",
              "3        1983          993  ...          141            1078\n",
              "4        1984         1182  ...          343            4313\n",
              "\n",
              "[5 rows x 7 columns]"
            ]
          },
          "metadata": {
            "tags": []
          },
          "execution_count": 9
        }
      ]
    },
    {
      "cell_type": "code",
      "metadata": {
        "id": "C8KzbAt7SWMs",
        "colab_type": "code",
        "colab": {}
      },
      "source": [
        "# Read data from Google Drive (not recommended)\n",
        "# https://colab.sandbox.google.com/notebooks/io.ipynb"
      ],
      "execution_count": null,
      "outputs": []
    },
    {
      "cell_type": "markdown",
      "metadata": {
        "id": "zJkbEoa9Wm-S",
        "colab_type": "text"
      },
      "source": [
        "#### **Data Structure**\n",
        "\n",
        "**Series** is a one-dimensional labeled array capable of holding any data type (integers, strings, floating point numbers, Python objects, etc.). The axis labels are collectively referred to as the index.\n",
        "\n",
        "**DataFrame** is a 2-dimensional labeled data structure with columns of potentially different types. You can think of it like a spreadsheet or SQL table, or a dict of Series objects. It is generally the most commonly used pandas object. "
      ]
    },
    {
      "cell_type": "code",
      "metadata": {
        "id": "U90sQOhyWqig",
        "colab_type": "code",
        "colab": {
          "base_uri": "https://localhost:8080/",
          "height": 136
        },
        "outputId": "efcb744d-d2bf-44a7-c005-eff4a478dc29"
      },
      "source": [
        "# Series from list\n",
        "s = pd.Series([1,3,5,6,8])\n",
        "\n",
        "print(type(s))\n",
        "s"
      ],
      "execution_count": 24,
      "outputs": [
        {
          "output_type": "stream",
          "text": [
            "<class 'pandas.core.series.Series'>\n"
          ],
          "name": "stdout"
        },
        {
          "output_type": "execute_result",
          "data": {
            "text/plain": [
              "0    1\n",
              "1    3\n",
              "2    5\n",
              "3    6\n",
              "4    8\n",
              "dtype: int64"
            ]
          },
          "metadata": {
            "tags": []
          },
          "execution_count": 24
        }
      ]
    },
    {
      "cell_type": "code",
      "metadata": {
        "id": "MWuNQmz8W8j4",
        "colab_type": "code",
        "colab": {
          "base_uri": "https://localhost:8080/",
          "height": 136
        },
        "outputId": "2ed3cf19-2532-45fd-a1f8-44c288146674"
      },
      "source": [
        "# Dataframe from lists\n",
        "d = pd.DataFrame({'col1': [1,2,3,4,5,6],'col2': ['1', '2', '3', '4', '5', '6'], 'col3': ['1',2,3,4,5,6]})\n",
        "print(d)"
      ],
      "execution_count": 28,
      "outputs": [
        {
          "output_type": "stream",
          "text": [
            "   col1 col2 col3\n",
            "0     1    1    1\n",
            "1     2    2    2\n",
            "2     3    3    3\n",
            "3     4    4    4\n",
            "4     5    5    5\n",
            "5     6    6    6\n"
          ],
          "name": "stdout"
        }
      ]
    },
    {
      "cell_type": "code",
      "metadata": {
        "id": "2VQ-nQYGjHkr",
        "colab_type": "code",
        "colab": {
          "base_uri": "https://localhost:8080/",
          "height": 187
        },
        "outputId": "00d476bf-c393-42d9-8af1-d00defd30d23"
      },
      "source": [
        "d.info()"
      ],
      "execution_count": 30,
      "outputs": [
        {
          "output_type": "stream",
          "text": [
            "<class 'pandas.core.frame.DataFrame'>\n",
            "RangeIndex: 6 entries, 0 to 5\n",
            "Data columns (total 3 columns):\n",
            " #   Column  Non-Null Count  Dtype \n",
            "---  ------  --------------  ----- \n",
            " 0   col1    6 non-null      int64 \n",
            " 1   col2    6 non-null      object\n",
            " 2   col3    6 non-null      object\n",
            "dtypes: int64(1), object(2)\n",
            "memory usage: 272.0+ bytes\n"
          ],
          "name": "stdout"
        }
      ]
    },
    {
      "cell_type": "code",
      "metadata": {
        "colab_type": "code",
        "id": "uYuAb9oQtJ3y",
        "colab": {
          "base_uri": "https://localhost:8080/",
          "height": 221
        },
        "outputId": "56a4d3d1-d517-4abd-b061-1b2f336c6ee2"
      },
      "source": [
        "df_iris.info()\n"
      ],
      "execution_count": 31,
      "outputs": [
        {
          "output_type": "stream",
          "text": [
            "<class 'pandas.core.frame.DataFrame'>\n",
            "RangeIndex: 150 entries, 0 to 149\n",
            "Data columns (total 5 columns):\n",
            " #   Column        Non-Null Count  Dtype  \n",
            "---  ------        --------------  -----  \n",
            " 0   sepal_length  150 non-null    float64\n",
            " 1   sepal_width   150 non-null    float64\n",
            " 2   petal_length  150 non-null    float64\n",
            " 3   petal_width   150 non-null    float64\n",
            " 4   species       150 non-null    object \n",
            "dtypes: float64(4), object(1)\n",
            "memory usage: 6.0+ KB\n"
          ],
          "name": "stdout"
        }
      ]
    },
    {
      "cell_type": "code",
      "metadata": {
        "id": "LmpQtYSlYj17",
        "colab_type": "code",
        "colab": {
          "base_uri": "https://localhost:8080/",
          "height": 343
        },
        "outputId": "e6d9bac6-3381-4e57-bc58-05807a16090e"
      },
      "source": [
        "# Dataframe first 5(default) rows\n",
        "df_iris.head(10)"
      ],
      "execution_count": null,
      "outputs": [
        {
          "output_type": "execute_result",
          "data": {
            "text/html": [
              "<div>\n",
              "<style scoped>\n",
              "    .dataframe tbody tr th:only-of-type {\n",
              "        vertical-align: middle;\n",
              "    }\n",
              "\n",
              "    .dataframe tbody tr th {\n",
              "        vertical-align: top;\n",
              "    }\n",
              "\n",
              "    .dataframe thead th {\n",
              "        text-align: right;\n",
              "    }\n",
              "</style>\n",
              "<table border=\"1\" class=\"dataframe\">\n",
              "  <thead>\n",
              "    <tr style=\"text-align: right;\">\n",
              "      <th></th>\n",
              "      <th>sepal_length</th>\n",
              "      <th>sepal_width</th>\n",
              "      <th>petal_length</th>\n",
              "      <th>petal_width</th>\n",
              "      <th>species</th>\n",
              "    </tr>\n",
              "  </thead>\n",
              "  <tbody>\n",
              "    <tr>\n",
              "      <th>0</th>\n",
              "      <td>5.1</td>\n",
              "      <td>3.5</td>\n",
              "      <td>1.4</td>\n",
              "      <td>0.2</td>\n",
              "      <td>setosa</td>\n",
              "    </tr>\n",
              "    <tr>\n",
              "      <th>1</th>\n",
              "      <td>4.9</td>\n",
              "      <td>3.0</td>\n",
              "      <td>1.4</td>\n",
              "      <td>0.2</td>\n",
              "      <td>setosa</td>\n",
              "    </tr>\n",
              "    <tr>\n",
              "      <th>2</th>\n",
              "      <td>4.7</td>\n",
              "      <td>3.2</td>\n",
              "      <td>1.3</td>\n",
              "      <td>0.2</td>\n",
              "      <td>setosa</td>\n",
              "    </tr>\n",
              "    <tr>\n",
              "      <th>3</th>\n",
              "      <td>4.6</td>\n",
              "      <td>3.1</td>\n",
              "      <td>1.5</td>\n",
              "      <td>0.2</td>\n",
              "      <td>setosa</td>\n",
              "    </tr>\n",
              "    <tr>\n",
              "      <th>4</th>\n",
              "      <td>5.0</td>\n",
              "      <td>3.6</td>\n",
              "      <td>1.4</td>\n",
              "      <td>0.2</td>\n",
              "      <td>setosa</td>\n",
              "    </tr>\n",
              "    <tr>\n",
              "      <th>5</th>\n",
              "      <td>5.4</td>\n",
              "      <td>3.9</td>\n",
              "      <td>1.7</td>\n",
              "      <td>0.4</td>\n",
              "      <td>setosa</td>\n",
              "    </tr>\n",
              "    <tr>\n",
              "      <th>6</th>\n",
              "      <td>4.6</td>\n",
              "      <td>3.4</td>\n",
              "      <td>1.4</td>\n",
              "      <td>0.3</td>\n",
              "      <td>setosa</td>\n",
              "    </tr>\n",
              "    <tr>\n",
              "      <th>7</th>\n",
              "      <td>5.0</td>\n",
              "      <td>3.4</td>\n",
              "      <td>1.5</td>\n",
              "      <td>0.2</td>\n",
              "      <td>setosa</td>\n",
              "    </tr>\n",
              "    <tr>\n",
              "      <th>8</th>\n",
              "      <td>4.4</td>\n",
              "      <td>2.9</td>\n",
              "      <td>1.4</td>\n",
              "      <td>0.2</td>\n",
              "      <td>setosa</td>\n",
              "    </tr>\n",
              "    <tr>\n",
              "      <th>9</th>\n",
              "      <td>4.9</td>\n",
              "      <td>3.1</td>\n",
              "      <td>1.5</td>\n",
              "      <td>0.1</td>\n",
              "      <td>setosa</td>\n",
              "    </tr>\n",
              "  </tbody>\n",
              "</table>\n",
              "</div>"
            ],
            "text/plain": [
              "   sepal_length  sepal_width  petal_length  petal_width species\n",
              "0           5.1          3.5           1.4          0.2  setosa\n",
              "1           4.9          3.0           1.4          0.2  setosa\n",
              "2           4.7          3.2           1.3          0.2  setosa\n",
              "3           4.6          3.1           1.5          0.2  setosa\n",
              "4           5.0          3.6           1.4          0.2  setosa\n",
              "5           5.4          3.9           1.7          0.4  setosa\n",
              "6           4.6          3.4           1.4          0.3  setosa\n",
              "7           5.0          3.4           1.5          0.2  setosa\n",
              "8           4.4          2.9           1.4          0.2  setosa\n",
              "9           4.9          3.1           1.5          0.1  setosa"
            ]
          },
          "metadata": {
            "tags": []
          },
          "execution_count": 11
        }
      ]
    },
    {
      "cell_type": "code",
      "metadata": {
        "id": "4YWDLSubH5e2",
        "colab_type": "code",
        "colab": {
          "base_uri": "https://localhost:8080/",
          "height": 111
        },
        "outputId": "be8e1cc8-2388-4f9a-a8d3-f6b0b6492a18"
      },
      "source": [
        "df_iris.tail(2)"
      ],
      "execution_count": 32,
      "outputs": [
        {
          "output_type": "execute_result",
          "data": {
            "text/html": [
              "<div>\n",
              "<style scoped>\n",
              "    .dataframe tbody tr th:only-of-type {\n",
              "        vertical-align: middle;\n",
              "    }\n",
              "\n",
              "    .dataframe tbody tr th {\n",
              "        vertical-align: top;\n",
              "    }\n",
              "\n",
              "    .dataframe thead th {\n",
              "        text-align: right;\n",
              "    }\n",
              "</style>\n",
              "<table border=\"1\" class=\"dataframe\">\n",
              "  <thead>\n",
              "    <tr style=\"text-align: right;\">\n",
              "      <th></th>\n",
              "      <th>sepal_length</th>\n",
              "      <th>sepal_width</th>\n",
              "      <th>petal_length</th>\n",
              "      <th>petal_width</th>\n",
              "      <th>species</th>\n",
              "    </tr>\n",
              "  </thead>\n",
              "  <tbody>\n",
              "    <tr>\n",
              "      <th>148</th>\n",
              "      <td>6.2</td>\n",
              "      <td>3.4</td>\n",
              "      <td>5.4</td>\n",
              "      <td>2.3</td>\n",
              "      <td>virginica</td>\n",
              "    </tr>\n",
              "    <tr>\n",
              "      <th>149</th>\n",
              "      <td>5.9</td>\n",
              "      <td>3.0</td>\n",
              "      <td>5.1</td>\n",
              "      <td>1.8</td>\n",
              "      <td>virginica</td>\n",
              "    </tr>\n",
              "  </tbody>\n",
              "</table>\n",
              "</div>"
            ],
            "text/plain": [
              "     sepal_length  sepal_width  petal_length  petal_width    species\n",
              "148           6.2          3.4           5.4          2.3  virginica\n",
              "149           5.9          3.0           5.1          1.8  virginica"
            ]
          },
          "metadata": {
            "tags": []
          },
          "execution_count": 32
        }
      ]
    },
    {
      "cell_type": "code",
      "metadata": {
        "id": "ZQ62tuXmY15J",
        "colab_type": "code",
        "colab": {
          "base_uri": "https://localhost:8080/",
          "height": 297
        },
        "outputId": "f3e36360-16e9-49ed-d7d1-8b3b16a66ca5"
      },
      "source": [
        "# Dataframe stats information\n",
        "df_iris.describe()"
      ],
      "execution_count": 33,
      "outputs": [
        {
          "output_type": "execute_result",
          "data": {
            "text/html": [
              "<div>\n",
              "<style scoped>\n",
              "    .dataframe tbody tr th:only-of-type {\n",
              "        vertical-align: middle;\n",
              "    }\n",
              "\n",
              "    .dataframe tbody tr th {\n",
              "        vertical-align: top;\n",
              "    }\n",
              "\n",
              "    .dataframe thead th {\n",
              "        text-align: right;\n",
              "    }\n",
              "</style>\n",
              "<table border=\"1\" class=\"dataframe\">\n",
              "  <thead>\n",
              "    <tr style=\"text-align: right;\">\n",
              "      <th></th>\n",
              "      <th>sepal_length</th>\n",
              "      <th>sepal_width</th>\n",
              "      <th>petal_length</th>\n",
              "      <th>petal_width</th>\n",
              "    </tr>\n",
              "  </thead>\n",
              "  <tbody>\n",
              "    <tr>\n",
              "      <th>count</th>\n",
              "      <td>150.000000</td>\n",
              "      <td>150.000000</td>\n",
              "      <td>150.000000</td>\n",
              "      <td>150.000000</td>\n",
              "    </tr>\n",
              "    <tr>\n",
              "      <th>mean</th>\n",
              "      <td>5.843333</td>\n",
              "      <td>3.054000</td>\n",
              "      <td>3.758667</td>\n",
              "      <td>1.198667</td>\n",
              "    </tr>\n",
              "    <tr>\n",
              "      <th>std</th>\n",
              "      <td>0.828066</td>\n",
              "      <td>0.433594</td>\n",
              "      <td>1.764420</td>\n",
              "      <td>0.763161</td>\n",
              "    </tr>\n",
              "    <tr>\n",
              "      <th>min</th>\n",
              "      <td>4.300000</td>\n",
              "      <td>2.000000</td>\n",
              "      <td>1.000000</td>\n",
              "      <td>0.100000</td>\n",
              "    </tr>\n",
              "    <tr>\n",
              "      <th>25%</th>\n",
              "      <td>5.100000</td>\n",
              "      <td>2.800000</td>\n",
              "      <td>1.600000</td>\n",
              "      <td>0.300000</td>\n",
              "    </tr>\n",
              "    <tr>\n",
              "      <th>50%</th>\n",
              "      <td>5.800000</td>\n",
              "      <td>3.000000</td>\n",
              "      <td>4.350000</td>\n",
              "      <td>1.300000</td>\n",
              "    </tr>\n",
              "    <tr>\n",
              "      <th>75%</th>\n",
              "      <td>6.400000</td>\n",
              "      <td>3.300000</td>\n",
              "      <td>5.100000</td>\n",
              "      <td>1.800000</td>\n",
              "    </tr>\n",
              "    <tr>\n",
              "      <th>max</th>\n",
              "      <td>7.900000</td>\n",
              "      <td>4.400000</td>\n",
              "      <td>6.900000</td>\n",
              "      <td>2.500000</td>\n",
              "    </tr>\n",
              "  </tbody>\n",
              "</table>\n",
              "</div>"
            ],
            "text/plain": [
              "       sepal_length  sepal_width  petal_length  petal_width\n",
              "count    150.000000   150.000000    150.000000   150.000000\n",
              "mean       5.843333     3.054000      3.758667     1.198667\n",
              "std        0.828066     0.433594      1.764420     0.763161\n",
              "min        4.300000     2.000000      1.000000     0.100000\n",
              "25%        5.100000     2.800000      1.600000     0.300000\n",
              "50%        5.800000     3.000000      4.350000     1.300000\n",
              "75%        6.400000     3.300000      5.100000     1.800000\n",
              "max        7.900000     4.400000      6.900000     2.500000"
            ]
          },
          "metadata": {
            "tags": []
          },
          "execution_count": 33
        }
      ]
    },
    {
      "cell_type": "code",
      "metadata": {
        "id": "tCJUdsA3Y86c",
        "colab_type": "code",
        "colab": {
          "base_uri": "https://localhost:8080/",
          "height": 119
        },
        "outputId": "b3136e50-ed1b-4e00-c8fa-84f834d44e2a"
      },
      "source": [
        "# column data type\n",
        "df_iris.dtypes"
      ],
      "execution_count": 35,
      "outputs": [
        {
          "output_type": "execute_result",
          "data": {
            "text/plain": [
              "sepal_length    float64\n",
              "sepal_width     float64\n",
              "petal_length    float64\n",
              "petal_width     float64\n",
              "species          object\n",
              "dtype: object"
            ]
          },
          "metadata": {
            "tags": []
          },
          "execution_count": 35
        }
      ]
    },
    {
      "cell_type": "code",
      "metadata": {
        "id": "9SvF87Kva4Cz",
        "colab_type": "code",
        "colab": {
          "base_uri": "https://localhost:8080/",
          "height": 34
        },
        "outputId": "c5a152cc-ef81-49fa-c52e-ef4eab6cf42f"
      },
      "source": [
        "# index info\n",
        "df_iris.index"
      ],
      "execution_count": 41,
      "outputs": [
        {
          "output_type": "execute_result",
          "data": {
            "text/plain": [
              "RangeIndex(start=0, stop=150, step=1)"
            ]
          },
          "metadata": {
            "tags": []
          },
          "execution_count": 41
        }
      ]
    },
    {
      "cell_type": "code",
      "metadata": {
        "id": "w8vph2JICKob",
        "colab_type": "code",
        "colab": {
          "base_uri": "https://localhost:8080/",
          "height": 34
        },
        "outputId": "b24bdddc-01e2-4fe2-c021-ae350c24b892"
      },
      "source": [
        "df_iris.columns"
      ],
      "execution_count": 42,
      "outputs": [
        {
          "output_type": "execute_result",
          "data": {
            "text/plain": [
              "Index(['sepal_length', 'sepal_width', 'petal_length', 'petal_width', 'class'], dtype='object')"
            ]
          },
          "metadata": {
            "tags": []
          },
          "execution_count": 42
        }
      ]
    },
    {
      "cell_type": "code",
      "metadata": {
        "id": "Rh4iF57mZQz1",
        "colab_type": "code",
        "colab": {
          "base_uri": "https://localhost:8080/",
          "height": 80
        },
        "outputId": "1d807c42-6e7f-494a-b26d-1d1847d5a292"
      },
      "source": [
        "# change column names\n",
        "attributes = [\"sepal_length\", \"sepal_width\", \"petal_length\", \"petal_width\", \"class\"]\n",
        "df_iris.columns = attributes\n",
        "\n",
        "df_iris.head(1)"
      ],
      "execution_count": 44,
      "outputs": [
        {
          "output_type": "execute_result",
          "data": {
            "text/html": [
              "<div>\n",
              "<style scoped>\n",
              "    .dataframe tbody tr th:only-of-type {\n",
              "        vertical-align: middle;\n",
              "    }\n",
              "\n",
              "    .dataframe tbody tr th {\n",
              "        vertical-align: top;\n",
              "    }\n",
              "\n",
              "    .dataframe thead th {\n",
              "        text-align: right;\n",
              "    }\n",
              "</style>\n",
              "<table border=\"1\" class=\"dataframe\">\n",
              "  <thead>\n",
              "    <tr style=\"text-align: right;\">\n",
              "      <th></th>\n",
              "      <th>sepal_length</th>\n",
              "      <th>sepal_width</th>\n",
              "      <th>petal_length</th>\n",
              "      <th>petal_width</th>\n",
              "      <th>class</th>\n",
              "    </tr>\n",
              "  </thead>\n",
              "  <tbody>\n",
              "    <tr>\n",
              "      <th>0</th>\n",
              "      <td>5.1</td>\n",
              "      <td>3.5</td>\n",
              "      <td>1.4</td>\n",
              "      <td>0.2</td>\n",
              "      <td>setosa</td>\n",
              "    </tr>\n",
              "  </tbody>\n",
              "</table>\n",
              "</div>"
            ],
            "text/plain": [
              "   sepal_length  sepal_width  petal_length  petal_width   class\n",
              "0           5.1          3.5           1.4          0.2  setosa"
            ]
          },
          "metadata": {
            "tags": []
          },
          "execution_count": 44
        }
      ]
    },
    {
      "cell_type": "markdown",
      "metadata": {
        "id": "Z0FucuXLih-b",
        "colab_type": "text"
      },
      "source": [
        "#### **Indexing and Slicing**"
      ]
    },
    {
      "cell_type": "code",
      "metadata": {
        "id": "L9KYxtpTioFa",
        "colab_type": "code",
        "colab": {
          "base_uri": "https://localhost:8080/",
          "height": 442
        },
        "outputId": "89a33859-3ee4-40b5-dbbf-523f84d85054"
      },
      "source": [
        "# use [] square brackets, only columns\n",
        "df1 = df_iris['sepal_length'] #返回seires\n",
        "print(df1.head())\n",
        "print(type(df1))\n",
        "\n",
        "\n",
        "df2 = df_iris[['sepal_length']] #返回data frame\n",
        "print(df2.head())\n",
        "print(type(df2))\n",
        "\n",
        "\n",
        "df3 = df_iris[['sepal_length', 'petal_length']] #如果想取多列column 需要加中括号\n",
        "print(df3.head())\n",
        "print(type(df3))\n",
        "\n",
        "df4 = df_iris[1:3][['sepal_length','petal_length']]\n",
        "print(df4)\n",
        "print(type(df4))"
      ],
      "execution_count": 49,
      "outputs": [
        {
          "output_type": "stream",
          "text": [
            "0    5.1\n",
            "1    4.9\n",
            "2    4.7\n",
            "3    4.6\n",
            "4    5.0\n",
            "Name: sepal_length, dtype: float64\n",
            "<class 'pandas.core.series.Series'>\n",
            "   sepal_length\n",
            "0           5.1\n",
            "1           4.9\n",
            "2           4.7\n",
            "3           4.6\n",
            "4           5.0\n",
            "<class 'pandas.core.frame.DataFrame'>\n",
            "   sepal_length  petal_length\n",
            "0           5.1           1.4\n",
            "1           4.9           1.4\n",
            "2           4.7           1.3\n",
            "3           4.6           1.5\n",
            "4           5.0           1.4\n",
            "<class 'pandas.core.frame.DataFrame'>\n",
            "   sepal_length  petal_length\n",
            "1           4.9           1.4\n",
            "2           4.7           1.3\n",
            "<class 'pandas.core.frame.DataFrame'>\n"
          ],
          "name": "stdout"
        }
      ]
    },
    {
      "cell_type": "code",
      "metadata": {
        "id": "_e10vJ3NlHek",
        "colab_type": "code",
        "colab": {
          "base_uri": "https://localhost:8080/",
          "height": 221
        },
        "outputId": "182241ec-3267-40a2-fbca-905de53038d2"
      },
      "source": [
        "# selection by position, use iloc, endpoint is excluded\n",
        "df1 = df_iris.iloc[[3]]\n",
        "print(df1)\n",
        "print(type(df1))\n",
        "\n",
        "df2 = df_iris.iloc[3:5,0:2]\n",
        "print(df2)\n",
        "print(type(df2))\n",
        "\n",
        "df3 = df_iris.iloc[[1,2,4],[0,2]]\n",
        "print(df3)\n",
        "print(type(df3))\n"
      ],
      "execution_count": 47,
      "outputs": [
        {
          "output_type": "stream",
          "text": [
            "   sepal_length  sepal_width  petal_length  petal_width   class\n",
            "3           4.6          3.1           1.5          0.2  setosa\n",
            "<class 'pandas.core.frame.DataFrame'>\n",
            "   sepal_length  sepal_width\n",
            "3           4.6          3.1\n",
            "4           5.0          3.6\n",
            "<class 'pandas.core.frame.DataFrame'>\n",
            "   sepal_length  petal_length\n",
            "1           4.9           1.4\n",
            "2           4.7           1.3\n",
            "4           5.0           1.4\n",
            "<class 'pandas.core.frame.DataFrame'>\n"
          ],
          "name": "stdout"
        }
      ]
    },
    {
      "cell_type": "code",
      "metadata": {
        "id": "efRLhCOQjeEL",
        "colab_type": "code",
        "colab": {
          "base_uri": "https://localhost:8080/",
          "height": 388
        },
        "outputId": "68e0b94b-6e00-4e3a-cf56-e1061b7523b2"
      },
      "source": [
        "# selection by lable, use loc , endpoint is included\n",
        "df1 = df_iris.loc[:, 'sepal_length']\n",
        "print(df1.head())\n",
        "print(type(df1))\n",
        "\n",
        "df2 = df_iris.loc[1:3, ['sepal_length', 'petal_length']]\n",
        "print(df2.head())\n",
        "print(type(df2))\n",
        "\n",
        "df3 = df_iris.loc[[1, 3], 'sepal_length':'petal_length']\n",
        "print(df3)\n",
        "\n",
        "# if you want to select rows and columns, must be like this\n",
        "df_iris[['sepal_length','petal_length']][1:4]"
      ],
      "execution_count": null,
      "outputs": [
        {
          "output_type": "stream",
          "text": [
            "0    5.1\n",
            "1    4.9\n",
            "2    4.7\n",
            "3    4.6\n",
            "4    5.0\n",
            "Name: sepal_length, dtype: float64\n",
            "<class 'pandas.core.series.Series'>\n",
            "   sepal_length  petal_length\n",
            "1           4.9           1.4\n",
            "2           4.7           1.3\n",
            "3           4.6           1.5\n",
            "<class 'pandas.core.frame.DataFrame'>\n",
            "   sepal_length  sepal_width  petal_length\n",
            "1           4.9          3.0           1.4\n",
            "3           4.6          3.1           1.5\n"
          ],
          "name": "stdout"
        },
        {
          "output_type": "execute_result",
          "data": {
            "text/html": [
              "<div>\n",
              "<style scoped>\n",
              "    .dataframe tbody tr th:only-of-type {\n",
              "        vertical-align: middle;\n",
              "    }\n",
              "\n",
              "    .dataframe tbody tr th {\n",
              "        vertical-align: top;\n",
              "    }\n",
              "\n",
              "    .dataframe thead th {\n",
              "        text-align: right;\n",
              "    }\n",
              "</style>\n",
              "<table border=\"1\" class=\"dataframe\">\n",
              "  <thead>\n",
              "    <tr style=\"text-align: right;\">\n",
              "      <th></th>\n",
              "      <th>sepal_length</th>\n",
              "      <th>petal_length</th>\n",
              "    </tr>\n",
              "  </thead>\n",
              "  <tbody>\n",
              "    <tr>\n",
              "      <th>1</th>\n",
              "      <td>4.9</td>\n",
              "      <td>1.4</td>\n",
              "    </tr>\n",
              "    <tr>\n",
              "      <th>2</th>\n",
              "      <td>4.7</td>\n",
              "      <td>1.3</td>\n",
              "    </tr>\n",
              "    <tr>\n",
              "      <th>3</th>\n",
              "      <td>4.6</td>\n",
              "      <td>1.5</td>\n",
              "    </tr>\n",
              "  </tbody>\n",
              "</table>\n",
              "</div>"
            ],
            "text/plain": [
              "   sepal_length  petal_length\n",
              "1           4.9           1.4\n",
              "2           4.7           1.3\n",
              "3           4.6           1.5"
            ]
          },
          "metadata": {
            "tags": []
          },
          "execution_count": 20
        }
      ]
    },
    {
      "cell_type": "code",
      "metadata": {
        "id": "wYJXwqbulpB9",
        "colab_type": "code",
        "colab": {
          "base_uri": "https://localhost:8080/",
          "height": 408
        },
        "outputId": "19f262b6-57d3-4b8d-aefb-51d4dce3d7ea"
      },
      "source": [
        "# boolean indexing\n",
        "df1 = df_iris[(df_iris['sepal_length'] > 6.0) & (df_iris['petal_length'] < 5.0)]\n",
        "print(df1)"
      ],
      "execution_count": 48,
      "outputs": [
        {
          "output_type": "stream",
          "text": [
            "     sepal_length  sepal_width  petal_length  petal_width       class\n",
            "50            7.0          3.2           4.7          1.4  versicolor\n",
            "51            6.4          3.2           4.5          1.5  versicolor\n",
            "52            6.9          3.1           4.9          1.5  versicolor\n",
            "54            6.5          2.8           4.6          1.5  versicolor\n",
            "56            6.3          3.3           4.7          1.6  versicolor\n",
            "58            6.6          2.9           4.6          1.3  versicolor\n",
            "63            6.1          2.9           4.7          1.4  versicolor\n",
            "65            6.7          3.1           4.4          1.4  versicolor\n",
            "68            6.2          2.2           4.5          1.5  versicolor\n",
            "71            6.1          2.8           4.0          1.3  versicolor\n",
            "72            6.3          2.5           4.9          1.5  versicolor\n",
            "73            6.1          2.8           4.7          1.2  versicolor\n",
            "74            6.4          2.9           4.3          1.3  versicolor\n",
            "75            6.6          3.0           4.4          1.4  versicolor\n",
            "76            6.8          2.8           4.8          1.4  versicolor\n",
            "86            6.7          3.1           4.7          1.5  versicolor\n",
            "87            6.3          2.3           4.4          1.3  versicolor\n",
            "91            6.1          3.0           4.6          1.4  versicolor\n",
            "97            6.2          2.9           4.3          1.3  versicolor\n",
            "123           6.3          2.7           4.9          1.8   virginica\n",
            "126           6.2          2.8           4.8          1.8   virginica\n",
            "127           6.1          3.0           4.9          1.8   virginica\n"
          ],
          "name": "stdout"
        }
      ]
    },
    {
      "cell_type": "code",
      "metadata": {
        "id": "xsAHYLn4vk9n",
        "colab_type": "code",
        "colab": {
          "base_uri": "https://localhost:8080/",
          "height": 403
        },
        "outputId": "30afc380-741a-4027-9946-a1542b610a5e"
      },
      "source": [
        "df1 = df1.reset_index(drop=True)\n",
        "print(df1)"
      ],
      "execution_count": null,
      "outputs": [
        {
          "output_type": "stream",
          "text": [
            "    sepal_length  sepal_width  petal_length  petal_width       class\n",
            "0            7.0          3.2           4.7          1.4  versicolor\n",
            "1            6.4          3.2           4.5          1.5  versicolor\n",
            "2            6.9          3.1           4.9          1.5  versicolor\n",
            "3            6.5          2.8           4.6          1.5  versicolor\n",
            "4            6.3          3.3           4.7          1.6  versicolor\n",
            "5            6.6          2.9           4.6          1.3  versicolor\n",
            "6            6.1          2.9           4.7          1.4  versicolor\n",
            "7            6.7          3.1           4.4          1.4  versicolor\n",
            "8            6.2          2.2           4.5          1.5  versicolor\n",
            "9            6.1          2.8           4.0          1.3  versicolor\n",
            "10           6.3          2.5           4.9          1.5  versicolor\n",
            "11           6.1          2.8           4.7          1.2  versicolor\n",
            "12           6.4          2.9           4.3          1.3  versicolor\n",
            "13           6.6          3.0           4.4          1.4  versicolor\n",
            "14           6.8          2.8           4.8          1.4  versicolor\n",
            "15           6.7          3.1           4.7          1.5  versicolor\n",
            "16           6.3          2.3           4.4          1.3  versicolor\n",
            "17           6.1          3.0           4.6          1.4  versicolor\n",
            "18           6.2          2.9           4.3          1.3  versicolor\n",
            "19           6.3          2.7           4.9          1.8   virginica\n",
            "20           6.2          2.8           4.8          1.8   virginica\n",
            "21           6.1          3.0           4.9          1.8   virginica\n"
          ],
          "name": "stdout"
        }
      ]
    },
    {
      "cell_type": "markdown",
      "metadata": {
        "id": "5U8R66Rnos4u",
        "colab_type": "text"
      },
      "source": [
        "#### **(Advanced)Merging**\n",
        "\n",
        "Read this [document](https://pandas.pydata.org/pandas-docs/stable/merging.html) for more info\n"
      ]
    },
    {
      "cell_type": "code",
      "metadata": {
        "id": "EMPg7rWn06Fo",
        "colab_type": "code",
        "colab": {}
      },
      "source": [
        "# two dataframe join or concatenate\n",
        "df_right=pd.DataFrame({'year':np.arange(1980,1990),'rain_cn':np.arange(800,810)})\n",
        "\n",
        "df_right2=pd.DataFrame({'year': [1991], 'rain_cn': [800]})"
      ],
      "execution_count": null,
      "outputs": []
    },
    {
      "cell_type": "code",
      "metadata": {
        "id": "DnmGRMTufzr7",
        "colab_type": "code",
        "colab": {
          "base_uri": "https://localhost:8080/",
          "height": 343
        },
        "outputId": "702927b5-aede-462c-9cc8-10f276979d50"
      },
      "source": [
        "df_right.head(10)"
      ],
      "execution_count": null,
      "outputs": [
        {
          "output_type": "execute_result",
          "data": {
            "text/html": [
              "<div>\n",
              "<style scoped>\n",
              "    .dataframe tbody tr th:only-of-type {\n",
              "        vertical-align: middle;\n",
              "    }\n",
              "\n",
              "    .dataframe tbody tr th {\n",
              "        vertical-align: top;\n",
              "    }\n",
              "\n",
              "    .dataframe thead th {\n",
              "        text-align: right;\n",
              "    }\n",
              "</style>\n",
              "<table border=\"1\" class=\"dataframe\">\n",
              "  <thead>\n",
              "    <tr style=\"text-align: right;\">\n",
              "      <th></th>\n",
              "      <th>year</th>\n",
              "      <th>rain_cn</th>\n",
              "    </tr>\n",
              "  </thead>\n",
              "  <tbody>\n",
              "    <tr>\n",
              "      <th>0</th>\n",
              "      <td>1980</td>\n",
              "      <td>800</td>\n",
              "    </tr>\n",
              "    <tr>\n",
              "      <th>1</th>\n",
              "      <td>1981</td>\n",
              "      <td>801</td>\n",
              "    </tr>\n",
              "    <tr>\n",
              "      <th>2</th>\n",
              "      <td>1982</td>\n",
              "      <td>802</td>\n",
              "    </tr>\n",
              "    <tr>\n",
              "      <th>3</th>\n",
              "      <td>1983</td>\n",
              "      <td>803</td>\n",
              "    </tr>\n",
              "    <tr>\n",
              "      <th>4</th>\n",
              "      <td>1984</td>\n",
              "      <td>804</td>\n",
              "    </tr>\n",
              "    <tr>\n",
              "      <th>5</th>\n",
              "      <td>1985</td>\n",
              "      <td>805</td>\n",
              "    </tr>\n",
              "    <tr>\n",
              "      <th>6</th>\n",
              "      <td>1986</td>\n",
              "      <td>806</td>\n",
              "    </tr>\n",
              "    <tr>\n",
              "      <th>7</th>\n",
              "      <td>1987</td>\n",
              "      <td>807</td>\n",
              "    </tr>\n",
              "    <tr>\n",
              "      <th>8</th>\n",
              "      <td>1988</td>\n",
              "      <td>808</td>\n",
              "    </tr>\n",
              "    <tr>\n",
              "      <th>9</th>\n",
              "      <td>1989</td>\n",
              "      <td>809</td>\n",
              "    </tr>\n",
              "  </tbody>\n",
              "</table>\n",
              "</div>"
            ],
            "text/plain": [
              "   year  rain_cn\n",
              "0  1980      800\n",
              "1  1981      801\n",
              "2  1982      802\n",
              "3  1983      803\n",
              "4  1984      804\n",
              "5  1985      805\n",
              "6  1986      806\n",
              "7  1987      807\n",
              "8  1988      808\n",
              "9  1989      809"
            ]
          },
          "metadata": {
            "tags": []
          },
          "execution_count": 24
        }
      ]
    },
    {
      "cell_type": "code",
      "metadata": {
        "id": "-x3Ma9P9LCsq",
        "colab_type": "code",
        "colab": {
          "base_uri": "https://localhost:8080/",
          "height": 77
        },
        "outputId": "51b3145d-50ab-4593-851f-4cbbd9cfee87"
      },
      "source": [
        "df_right2.head()"
      ],
      "execution_count": null,
      "outputs": [
        {
          "output_type": "execute_result",
          "data": {
            "text/html": [
              "<div>\n",
              "<style scoped>\n",
              "    .dataframe tbody tr th:only-of-type {\n",
              "        vertical-align: middle;\n",
              "    }\n",
              "\n",
              "    .dataframe tbody tr th {\n",
              "        vertical-align: top;\n",
              "    }\n",
              "\n",
              "    .dataframe thead th {\n",
              "        text-align: right;\n",
              "    }\n",
              "</style>\n",
              "<table border=\"1\" class=\"dataframe\">\n",
              "  <thead>\n",
              "    <tr style=\"text-align: right;\">\n",
              "      <th></th>\n",
              "      <th>year</th>\n",
              "      <th>rain_cn</th>\n",
              "    </tr>\n",
              "  </thead>\n",
              "  <tbody>\n",
              "    <tr>\n",
              "      <th>0</th>\n",
              "      <td>1991</td>\n",
              "      <td>800</td>\n",
              "    </tr>\n",
              "  </tbody>\n",
              "</table>\n",
              "</div>"
            ],
            "text/plain": [
              "   year  rain_cn\n",
              "0  1991      800"
            ]
          },
          "metadata": {
            "tags": []
          },
          "execution_count": 25
        }
      ]
    },
    {
      "cell_type": "code",
      "metadata": {
        "id": "7ci7BhgLNl36",
        "colab_type": "code",
        "colab": {
          "base_uri": "https://localhost:8080/",
          "height": 373
        },
        "outputId": "803c6c7f-e261-4cad-80fa-e6f67def714a"
      },
      "source": [
        "df_right3=pd.concat([df_right, df_right2], ignore_index = True)\n",
        "df_right3"
      ],
      "execution_count": null,
      "outputs": [
        {
          "output_type": "execute_result",
          "data": {
            "text/html": [
              "<div>\n",
              "<style scoped>\n",
              "    .dataframe tbody tr th:only-of-type {\n",
              "        vertical-align: middle;\n",
              "    }\n",
              "\n",
              "    .dataframe tbody tr th {\n",
              "        vertical-align: top;\n",
              "    }\n",
              "\n",
              "    .dataframe thead th {\n",
              "        text-align: right;\n",
              "    }\n",
              "</style>\n",
              "<table border=\"1\" class=\"dataframe\">\n",
              "  <thead>\n",
              "    <tr style=\"text-align: right;\">\n",
              "      <th></th>\n",
              "      <th>year</th>\n",
              "      <th>rain_cn</th>\n",
              "    </tr>\n",
              "  </thead>\n",
              "  <tbody>\n",
              "    <tr>\n",
              "      <th>0</th>\n",
              "      <td>1980</td>\n",
              "      <td>800</td>\n",
              "    </tr>\n",
              "    <tr>\n",
              "      <th>1</th>\n",
              "      <td>1981</td>\n",
              "      <td>801</td>\n",
              "    </tr>\n",
              "    <tr>\n",
              "      <th>2</th>\n",
              "      <td>1982</td>\n",
              "      <td>802</td>\n",
              "    </tr>\n",
              "    <tr>\n",
              "      <th>3</th>\n",
              "      <td>1983</td>\n",
              "      <td>803</td>\n",
              "    </tr>\n",
              "    <tr>\n",
              "      <th>4</th>\n",
              "      <td>1984</td>\n",
              "      <td>804</td>\n",
              "    </tr>\n",
              "    <tr>\n",
              "      <th>5</th>\n",
              "      <td>1985</td>\n",
              "      <td>805</td>\n",
              "    </tr>\n",
              "    <tr>\n",
              "      <th>6</th>\n",
              "      <td>1986</td>\n",
              "      <td>806</td>\n",
              "    </tr>\n",
              "    <tr>\n",
              "      <th>7</th>\n",
              "      <td>1987</td>\n",
              "      <td>807</td>\n",
              "    </tr>\n",
              "    <tr>\n",
              "      <th>8</th>\n",
              "      <td>1988</td>\n",
              "      <td>808</td>\n",
              "    </tr>\n",
              "    <tr>\n",
              "      <th>9</th>\n",
              "      <td>1989</td>\n",
              "      <td>809</td>\n",
              "    </tr>\n",
              "    <tr>\n",
              "      <th>10</th>\n",
              "      <td>1991</td>\n",
              "      <td>800</td>\n",
              "    </tr>\n",
              "  </tbody>\n",
              "</table>\n",
              "</div>"
            ],
            "text/plain": [
              "    year  rain_cn\n",
              "0   1980      800\n",
              "1   1981      801\n",
              "2   1982      802\n",
              "3   1983      803\n",
              "4   1984      804\n",
              "5   1985      805\n",
              "6   1986      806\n",
              "7   1987      807\n",
              "8   1988      808\n",
              "9   1989      809\n",
              "10  1991      800"
            ]
          },
          "metadata": {
            "tags": []
          },
          "execution_count": 26
        }
      ]
    },
    {
      "cell_type": "code",
      "metadata": {
        "id": "r3s77kJOpAEH",
        "colab_type": "code",
        "colab": {
          "base_uri": "https://localhost:8080/",
          "height": 195
        },
        "outputId": "2d796944-5ea8-4568-8270-e2583c7271ae"
      },
      "source": [
        "df_uk_rain.head()"
      ],
      "execution_count": null,
      "outputs": [
        {
          "output_type": "execute_result",
          "data": {
            "text/html": [
              "<div>\n",
              "<style scoped>\n",
              "    .dataframe tbody tr th:only-of-type {\n",
              "        vertical-align: middle;\n",
              "    }\n",
              "\n",
              "    .dataframe tbody tr th {\n",
              "        vertical-align: top;\n",
              "    }\n",
              "\n",
              "    .dataframe thead th {\n",
              "        text-align: right;\n",
              "    }\n",
              "</style>\n",
              "<table border=\"1\" class=\"dataframe\">\n",
              "  <thead>\n",
              "    <tr style=\"text-align: right;\">\n",
              "      <th></th>\n",
              "      <th>water_year</th>\n",
              "      <th>rain_octsep</th>\n",
              "      <th>outflow_octsep</th>\n",
              "      <th>rain_decfeb</th>\n",
              "      <th>outflow_decfeb</th>\n",
              "      <th>rain_junaug</th>\n",
              "      <th>outflow_junaug</th>\n",
              "    </tr>\n",
              "  </thead>\n",
              "  <tbody>\n",
              "    <tr>\n",
              "      <th>0</th>\n",
              "      <td>1980</td>\n",
              "      <td>1182</td>\n",
              "      <td>5408</td>\n",
              "      <td>292</td>\n",
              "      <td>7248</td>\n",
              "      <td>174</td>\n",
              "      <td>2212</td>\n",
              "    </tr>\n",
              "    <tr>\n",
              "      <th>1</th>\n",
              "      <td>1981</td>\n",
              "      <td>1098</td>\n",
              "      <td>5112</td>\n",
              "      <td>257</td>\n",
              "      <td>7316</td>\n",
              "      <td>242</td>\n",
              "      <td>1936</td>\n",
              "    </tr>\n",
              "    <tr>\n",
              "      <th>2</th>\n",
              "      <td>1982</td>\n",
              "      <td>1156</td>\n",
              "      <td>5701</td>\n",
              "      <td>330</td>\n",
              "      <td>8567</td>\n",
              "      <td>124</td>\n",
              "      <td>1802</td>\n",
              "    </tr>\n",
              "    <tr>\n",
              "      <th>3</th>\n",
              "      <td>1983</td>\n",
              "      <td>993</td>\n",
              "      <td>4265</td>\n",
              "      <td>391</td>\n",
              "      <td>8905</td>\n",
              "      <td>141</td>\n",
              "      <td>1078</td>\n",
              "    </tr>\n",
              "    <tr>\n",
              "      <th>4</th>\n",
              "      <td>1984</td>\n",
              "      <td>1182</td>\n",
              "      <td>5364</td>\n",
              "      <td>217</td>\n",
              "      <td>5813</td>\n",
              "      <td>343</td>\n",
              "      <td>4313</td>\n",
              "    </tr>\n",
              "  </tbody>\n",
              "</table>\n",
              "</div>"
            ],
            "text/plain": [
              "   water_year  rain_octsep  ...  rain_junaug  outflow_junaug\n",
              "0        1980         1182  ...          174            2212\n",
              "1        1981         1098  ...          242            1936\n",
              "2        1982         1156  ...          124            1802\n",
              "3        1983          993  ...          141            1078\n",
              "4        1984         1182  ...          343            4313\n",
              "\n",
              "[5 rows x 7 columns]"
            ]
          },
          "metadata": {
            "tags": []
          },
          "execution_count": 27
        }
      ]
    },
    {
      "cell_type": "code",
      "metadata": {
        "id": "1JAQs-D9Leb-",
        "colab_type": "code",
        "colab": {
          "base_uri": "https://localhost:8080/",
          "height": 373
        },
        "outputId": "c8e2d055-1068-4ae3-c03c-d0c2fcbd1284"
      },
      "source": [
        "# SQL like inner join:\n",
        "df_join=pd.merge(df_uk_rain, df_right3, left_on='water_year',right_on='year',how='inner')\n",
        "df_join"
      ],
      "execution_count": null,
      "outputs": [
        {
          "output_type": "execute_result",
          "data": {
            "text/html": [
              "<div>\n",
              "<style scoped>\n",
              "    .dataframe tbody tr th:only-of-type {\n",
              "        vertical-align: middle;\n",
              "    }\n",
              "\n",
              "    .dataframe tbody tr th {\n",
              "        vertical-align: top;\n",
              "    }\n",
              "\n",
              "    .dataframe thead th {\n",
              "        text-align: right;\n",
              "    }\n",
              "</style>\n",
              "<table border=\"1\" class=\"dataframe\">\n",
              "  <thead>\n",
              "    <tr style=\"text-align: right;\">\n",
              "      <th></th>\n",
              "      <th>water_year</th>\n",
              "      <th>rain_octsep</th>\n",
              "      <th>outflow_octsep</th>\n",
              "      <th>rain_decfeb</th>\n",
              "      <th>outflow_decfeb</th>\n",
              "      <th>rain_junaug</th>\n",
              "      <th>outflow_junaug</th>\n",
              "      <th>year</th>\n",
              "      <th>rain_cn</th>\n",
              "    </tr>\n",
              "  </thead>\n",
              "  <tbody>\n",
              "    <tr>\n",
              "      <th>0</th>\n",
              "      <td>1980</td>\n",
              "      <td>1182</td>\n",
              "      <td>5408</td>\n",
              "      <td>292</td>\n",
              "      <td>7248</td>\n",
              "      <td>174</td>\n",
              "      <td>2212</td>\n",
              "      <td>1980</td>\n",
              "      <td>800</td>\n",
              "    </tr>\n",
              "    <tr>\n",
              "      <th>1</th>\n",
              "      <td>1981</td>\n",
              "      <td>1098</td>\n",
              "      <td>5112</td>\n",
              "      <td>257</td>\n",
              "      <td>7316</td>\n",
              "      <td>242</td>\n",
              "      <td>1936</td>\n",
              "      <td>1981</td>\n",
              "      <td>801</td>\n",
              "    </tr>\n",
              "    <tr>\n",
              "      <th>2</th>\n",
              "      <td>1982</td>\n",
              "      <td>1156</td>\n",
              "      <td>5701</td>\n",
              "      <td>330</td>\n",
              "      <td>8567</td>\n",
              "      <td>124</td>\n",
              "      <td>1802</td>\n",
              "      <td>1982</td>\n",
              "      <td>802</td>\n",
              "    </tr>\n",
              "    <tr>\n",
              "      <th>3</th>\n",
              "      <td>1983</td>\n",
              "      <td>993</td>\n",
              "      <td>4265</td>\n",
              "      <td>391</td>\n",
              "      <td>8905</td>\n",
              "      <td>141</td>\n",
              "      <td>1078</td>\n",
              "      <td>1983</td>\n",
              "      <td>803</td>\n",
              "    </tr>\n",
              "    <tr>\n",
              "      <th>4</th>\n",
              "      <td>1984</td>\n",
              "      <td>1182</td>\n",
              "      <td>5364</td>\n",
              "      <td>217</td>\n",
              "      <td>5813</td>\n",
              "      <td>343</td>\n",
              "      <td>4313</td>\n",
              "      <td>1984</td>\n",
              "      <td>804</td>\n",
              "    </tr>\n",
              "    <tr>\n",
              "      <th>5</th>\n",
              "      <td>1985</td>\n",
              "      <td>1027</td>\n",
              "      <td>4991</td>\n",
              "      <td>304</td>\n",
              "      <td>7951</td>\n",
              "      <td>229</td>\n",
              "      <td>2595</td>\n",
              "      <td>1985</td>\n",
              "      <td>805</td>\n",
              "    </tr>\n",
              "    <tr>\n",
              "      <th>6</th>\n",
              "      <td>1986</td>\n",
              "      <td>1151</td>\n",
              "      <td>5196</td>\n",
              "      <td>295</td>\n",
              "      <td>7593</td>\n",
              "      <td>267</td>\n",
              "      <td>2826</td>\n",
              "      <td>1986</td>\n",
              "      <td>806</td>\n",
              "    </tr>\n",
              "    <tr>\n",
              "      <th>7</th>\n",
              "      <td>1987</td>\n",
              "      <td>1210</td>\n",
              "      <td>5572</td>\n",
              "      <td>343</td>\n",
              "      <td>8456</td>\n",
              "      <td>294</td>\n",
              "      <td>3154</td>\n",
              "      <td>1987</td>\n",
              "      <td>807</td>\n",
              "    </tr>\n",
              "    <tr>\n",
              "      <th>8</th>\n",
              "      <td>1988</td>\n",
              "      <td>976</td>\n",
              "      <td>4330</td>\n",
              "      <td>309</td>\n",
              "      <td>6465</td>\n",
              "      <td>200</td>\n",
              "      <td>1440</td>\n",
              "      <td>1988</td>\n",
              "      <td>808</td>\n",
              "    </tr>\n",
              "    <tr>\n",
              "      <th>9</th>\n",
              "      <td>1989</td>\n",
              "      <td>1130</td>\n",
              "      <td>4973</td>\n",
              "      <td>470</td>\n",
              "      <td>10520</td>\n",
              "      <td>209</td>\n",
              "      <td>1740</td>\n",
              "      <td>1989</td>\n",
              "      <td>809</td>\n",
              "    </tr>\n",
              "    <tr>\n",
              "      <th>10</th>\n",
              "      <td>1991</td>\n",
              "      <td>1151</td>\n",
              "      <td>4506</td>\n",
              "      <td>246</td>\n",
              "      <td>5493</td>\n",
              "      <td>280</td>\n",
              "      <td>2118</td>\n",
              "      <td>1991</td>\n",
              "      <td>800</td>\n",
              "    </tr>\n",
              "  </tbody>\n",
              "</table>\n",
              "</div>"
            ],
            "text/plain": [
              "    water_year  rain_octsep  outflow_octsep  ...  outflow_junaug  year  rain_cn\n",
              "0         1980         1182            5408  ...            2212  1980      800\n",
              "1         1981         1098            5112  ...            1936  1981      801\n",
              "2         1982         1156            5701  ...            1802  1982      802\n",
              "3         1983          993            4265  ...            1078  1983      803\n",
              "4         1984         1182            5364  ...            4313  1984      804\n",
              "5         1985         1027            4991  ...            2595  1985      805\n",
              "6         1986         1151            5196  ...            2826  1986      806\n",
              "7         1987         1210            5572  ...            3154  1987      807\n",
              "8         1988          976            4330  ...            1440  1988      808\n",
              "9         1989         1130            4973  ...            1740  1989      809\n",
              "10        1991         1151            4506  ...            2118  1991      800\n",
              "\n",
              "[11 rows x 9 columns]"
            ]
          },
          "metadata": {
            "tags": []
          },
          "execution_count": 28
        }
      ]
    },
    {
      "cell_type": "markdown",
      "metadata": {
        "id": "01PXGrp2oQuZ",
        "colab_type": "text"
      },
      "source": [
        "#### **(Advanced)Grouping**\n",
        "\n",
        "Read this [document](https://pandas.pydata.org/pandas-docs/stable/groupby.html) for more info"
      ]
    },
    {
      "cell_type": "code",
      "metadata": {
        "id": "7vVGllv1F42Z",
        "colab_type": "code",
        "colab": {
          "base_uri": "https://localhost:8080/",
          "height": 195
        },
        "outputId": "0de36e3a-2fdb-40f7-fb60-5ecd7c308f15"
      },
      "source": [
        "# groupby: similar to SQL groupby\n",
        "df_uk_rain.groupby(df_uk_rain['water_year'] // 10 *10)[['rain_octsep','outflow_octsep','rain_decfeb']].apply(max)"
      ],
      "execution_count": null,
      "outputs": [
        {
          "output_type": "execute_result",
          "data": {
            "text/html": [
              "<div>\n",
              "<style scoped>\n",
              "    .dataframe tbody tr th:only-of-type {\n",
              "        vertical-align: middle;\n",
              "    }\n",
              "\n",
              "    .dataframe tbody tr th {\n",
              "        vertical-align: top;\n",
              "    }\n",
              "\n",
              "    .dataframe thead th {\n",
              "        text-align: right;\n",
              "    }\n",
              "</style>\n",
              "<table border=\"1\" class=\"dataframe\">\n",
              "  <thead>\n",
              "    <tr style=\"text-align: right;\">\n",
              "      <th></th>\n",
              "      <th>rain_octsep</th>\n",
              "      <th>outflow_octsep</th>\n",
              "      <th>rain_decfeb</th>\n",
              "    </tr>\n",
              "    <tr>\n",
              "      <th>water_year</th>\n",
              "      <th></th>\n",
              "      <th></th>\n",
              "      <th></th>\n",
              "    </tr>\n",
              "  </thead>\n",
              "  <tbody>\n",
              "    <tr>\n",
              "      <th>1980</th>\n",
              "      <td>1210</td>\n",
              "      <td>5701</td>\n",
              "      <td>470</td>\n",
              "    </tr>\n",
              "    <tr>\n",
              "      <th>1990</th>\n",
              "      <td>1268</td>\n",
              "      <td>5824</td>\n",
              "      <td>484</td>\n",
              "    </tr>\n",
              "    <tr>\n",
              "      <th>2000</th>\n",
              "      <td>1387</td>\n",
              "      <td>6391</td>\n",
              "      <td>437</td>\n",
              "    </tr>\n",
              "    <tr>\n",
              "      <th>2010</th>\n",
              "      <td>1285</td>\n",
              "      <td>5500</td>\n",
              "      <td>350</td>\n",
              "    </tr>\n",
              "  </tbody>\n",
              "</table>\n",
              "</div>"
            ],
            "text/plain": [
              "            rain_octsep  outflow_octsep  rain_decfeb\n",
              "water_year                                          \n",
              "1980               1210            5701          470\n",
              "1990               1268            5824          484\n",
              "2000               1387            6391          437\n",
              "2010               1285            5500          350"
            ]
          },
          "metadata": {
            "tags": []
          },
          "execution_count": 29
        }
      ]
    },
    {
      "cell_type": "markdown",
      "metadata": {
        "id": "Dd02UQsPpAqj",
        "colab_type": "text"
      },
      "source": [
        "## **Data Preprocessing**\n",
        "\n",
        "(Advanced)\n",
        "\n",
        "*   Duplication\n",
        "*   Outlier\n",
        "*   Missing Value\n",
        "\n"
      ]
    },
    {
      "cell_type": "markdown",
      "metadata": {
        "id": "v2EVa9GC9ygN",
        "colab_type": "text"
      },
      "source": [
        "#### **Duplication**"
      ]
    },
    {
      "cell_type": "code",
      "metadata": {
        "id": "P-AhBupVMWfu",
        "colab_type": "code",
        "colab": {
          "base_uri": "https://localhost:8080/",
          "height": 225
        },
        "outputId": "7b6d6f9f-0dce-4324-8d9f-b531f6746215"
      },
      "source": [
        "# check if a column has duplicates\n",
        "df_uk_rain[df_uk_rain['rain_octsep'].duplicated(keep=False)]"
      ],
      "execution_count": null,
      "outputs": [
        {
          "output_type": "execute_result",
          "data": {
            "text/html": [
              "<div>\n",
              "<style scoped>\n",
              "    .dataframe tbody tr th:only-of-type {\n",
              "        vertical-align: middle;\n",
              "    }\n",
              "\n",
              "    .dataframe tbody tr th {\n",
              "        vertical-align: top;\n",
              "    }\n",
              "\n",
              "    .dataframe thead th {\n",
              "        text-align: right;\n",
              "    }\n",
              "</style>\n",
              "<table border=\"1\" class=\"dataframe\">\n",
              "  <thead>\n",
              "    <tr style=\"text-align: right;\">\n",
              "      <th></th>\n",
              "      <th>water_year</th>\n",
              "      <th>rain_octsep</th>\n",
              "      <th>outflow_octsep</th>\n",
              "      <th>rain_decfeb</th>\n",
              "      <th>outflow_decfeb</th>\n",
              "      <th>rain_junaug</th>\n",
              "      <th>outflow_junaug</th>\n",
              "    </tr>\n",
              "  </thead>\n",
              "  <tbody>\n",
              "    <tr>\n",
              "      <th>0</th>\n",
              "      <td>1980</td>\n",
              "      <td>1182</td>\n",
              "      <td>5408</td>\n",
              "      <td>292</td>\n",
              "      <td>7248</td>\n",
              "      <td>174</td>\n",
              "      <td>2212</td>\n",
              "    </tr>\n",
              "    <tr>\n",
              "      <th>4</th>\n",
              "      <td>1984</td>\n",
              "      <td>1182</td>\n",
              "      <td>5364</td>\n",
              "      <td>217</td>\n",
              "      <td>5813</td>\n",
              "      <td>343</td>\n",
              "      <td>4313</td>\n",
              "    </tr>\n",
              "    <tr>\n",
              "      <th>6</th>\n",
              "      <td>1986</td>\n",
              "      <td>1151</td>\n",
              "      <td>5196</td>\n",
              "      <td>295</td>\n",
              "      <td>7593</td>\n",
              "      <td>267</td>\n",
              "      <td>2826</td>\n",
              "    </tr>\n",
              "    <tr>\n",
              "      <th>9</th>\n",
              "      <td>1989</td>\n",
              "      <td>1130</td>\n",
              "      <td>4973</td>\n",
              "      <td>470</td>\n",
              "      <td>10520</td>\n",
              "      <td>209</td>\n",
              "      <td>1740</td>\n",
              "    </tr>\n",
              "    <tr>\n",
              "      <th>11</th>\n",
              "      <td>1991</td>\n",
              "      <td>1151</td>\n",
              "      <td>4506</td>\n",
              "      <td>246</td>\n",
              "      <td>5493</td>\n",
              "      <td>280</td>\n",
              "      <td>2118</td>\n",
              "    </tr>\n",
              "    <tr>\n",
              "      <th>12</th>\n",
              "      <td>1992</td>\n",
              "      <td>1130</td>\n",
              "      <td>5246</td>\n",
              "      <td>308</td>\n",
              "      <td>8751</td>\n",
              "      <td>219</td>\n",
              "      <td>2551</td>\n",
              "    </tr>\n",
              "  </tbody>\n",
              "</table>\n",
              "</div>"
            ],
            "text/plain": [
              "    water_year  rain_octsep  ...  rain_junaug  outflow_junaug\n",
              "0         1980         1182  ...          174            2212\n",
              "4         1984         1182  ...          343            4313\n",
              "6         1986         1151  ...          267            2826\n",
              "9         1989         1130  ...          209            1740\n",
              "11        1991         1151  ...          280            2118\n",
              "12        1992         1130  ...          219            2551\n",
              "\n",
              "[6 rows x 7 columns]"
            ]
          },
          "metadata": {
            "tags": []
          },
          "execution_count": 30
        }
      ]
    },
    {
      "cell_type": "code",
      "metadata": {
        "id": "3WW7iRS6Mxc0",
        "colab_type": "code",
        "colab": {
          "base_uri": "https://localhost:8080/",
          "height": 106
        },
        "outputId": "1b4d4e2d-a018-4876-b356-c735f07ddbce"
      },
      "source": [
        "# create a duplicated row as the last row\n",
        "df_dup=df_uk_rain\n",
        "df_dup.loc[len(df_dup)]=df_dup.iloc[0]\n",
        "df_dup.iloc[[0,-1]] # first and last row"
      ],
      "execution_count": null,
      "outputs": [
        {
          "output_type": "execute_result",
          "data": {
            "text/html": [
              "<div>\n",
              "<style scoped>\n",
              "    .dataframe tbody tr th:only-of-type {\n",
              "        vertical-align: middle;\n",
              "    }\n",
              "\n",
              "    .dataframe tbody tr th {\n",
              "        vertical-align: top;\n",
              "    }\n",
              "\n",
              "    .dataframe thead th {\n",
              "        text-align: right;\n",
              "    }\n",
              "</style>\n",
              "<table border=\"1\" class=\"dataframe\">\n",
              "  <thead>\n",
              "    <tr style=\"text-align: right;\">\n",
              "      <th></th>\n",
              "      <th>water_year</th>\n",
              "      <th>rain_octsep</th>\n",
              "      <th>outflow_octsep</th>\n",
              "      <th>rain_decfeb</th>\n",
              "      <th>outflow_decfeb</th>\n",
              "      <th>rain_junaug</th>\n",
              "      <th>outflow_junaug</th>\n",
              "    </tr>\n",
              "  </thead>\n",
              "  <tbody>\n",
              "    <tr>\n",
              "      <th>0</th>\n",
              "      <td>1980</td>\n",
              "      <td>1182</td>\n",
              "      <td>5408</td>\n",
              "      <td>292</td>\n",
              "      <td>7248</td>\n",
              "      <td>174</td>\n",
              "      <td>2212</td>\n",
              "    </tr>\n",
              "    <tr>\n",
              "      <th>33</th>\n",
              "      <td>1980</td>\n",
              "      <td>1182</td>\n",
              "      <td>5408</td>\n",
              "      <td>292</td>\n",
              "      <td>7248</td>\n",
              "      <td>174</td>\n",
              "      <td>2212</td>\n",
              "    </tr>\n",
              "  </tbody>\n",
              "</table>\n",
              "</div>"
            ],
            "text/plain": [
              "    water_year  rain_octsep  ...  rain_junaug  outflow_junaug\n",
              "0         1980         1182  ...          174            2212\n",
              "33        1980         1182  ...          174            2212\n",
              "\n",
              "[2 rows x 7 columns]"
            ]
          },
          "metadata": {
            "tags": []
          },
          "execution_count": 31
        }
      ]
    },
    {
      "cell_type": "code",
      "metadata": {
        "id": "7w6LsQVoM23Y",
        "colab_type": "code",
        "colab": {
          "base_uri": "https://localhost:8080/",
          "height": 106
        },
        "outputId": "34a3ac9d-cc82-47a1-db29-95edeac9555a"
      },
      "source": [
        "# check duplicate rows\n",
        "df_dup[df_dup.duplicated(keep=False)]"
      ],
      "execution_count": null,
      "outputs": [
        {
          "output_type": "execute_result",
          "data": {
            "text/html": [
              "<div>\n",
              "<style scoped>\n",
              "    .dataframe tbody tr th:only-of-type {\n",
              "        vertical-align: middle;\n",
              "    }\n",
              "\n",
              "    .dataframe tbody tr th {\n",
              "        vertical-align: top;\n",
              "    }\n",
              "\n",
              "    .dataframe thead th {\n",
              "        text-align: right;\n",
              "    }\n",
              "</style>\n",
              "<table border=\"1\" class=\"dataframe\">\n",
              "  <thead>\n",
              "    <tr style=\"text-align: right;\">\n",
              "      <th></th>\n",
              "      <th>water_year</th>\n",
              "      <th>rain_octsep</th>\n",
              "      <th>outflow_octsep</th>\n",
              "      <th>rain_decfeb</th>\n",
              "      <th>outflow_decfeb</th>\n",
              "      <th>rain_junaug</th>\n",
              "      <th>outflow_junaug</th>\n",
              "    </tr>\n",
              "  </thead>\n",
              "  <tbody>\n",
              "    <tr>\n",
              "      <th>0</th>\n",
              "      <td>1980</td>\n",
              "      <td>1182</td>\n",
              "      <td>5408</td>\n",
              "      <td>292</td>\n",
              "      <td>7248</td>\n",
              "      <td>174</td>\n",
              "      <td>2212</td>\n",
              "    </tr>\n",
              "    <tr>\n",
              "      <th>33</th>\n",
              "      <td>1980</td>\n",
              "      <td>1182</td>\n",
              "      <td>5408</td>\n",
              "      <td>292</td>\n",
              "      <td>7248</td>\n",
              "      <td>174</td>\n",
              "      <td>2212</td>\n",
              "    </tr>\n",
              "  </tbody>\n",
              "</table>\n",
              "</div>"
            ],
            "text/plain": [
              "    water_year  rain_octsep  ...  rain_junaug  outflow_junaug\n",
              "0         1980         1182  ...          174            2212\n",
              "33        1980         1182  ...          174            2212\n",
              "\n",
              "[2 rows x 7 columns]"
            ]
          },
          "metadata": {
            "tags": []
          },
          "execution_count": 32
        }
      ]
    },
    {
      "cell_type": "code",
      "metadata": {
        "id": "IhjIxyGbNFF_",
        "colab_type": "code",
        "colab": {
          "base_uri": "https://localhost:8080/",
          "height": 106
        },
        "outputId": "8ae783d1-b09f-435a-9af8-d40988c3a249"
      },
      "source": [
        "# remove duplicates\n",
        "df_dedup=df_dup.drop_duplicates()\n",
        "df_dedup.iloc[[0,-1]]"
      ],
      "execution_count": null,
      "outputs": [
        {
          "output_type": "execute_result",
          "data": {
            "text/html": [
              "<div>\n",
              "<style scoped>\n",
              "    .dataframe tbody tr th:only-of-type {\n",
              "        vertical-align: middle;\n",
              "    }\n",
              "\n",
              "    .dataframe tbody tr th {\n",
              "        vertical-align: top;\n",
              "    }\n",
              "\n",
              "    .dataframe thead th {\n",
              "        text-align: right;\n",
              "    }\n",
              "</style>\n",
              "<table border=\"1\" class=\"dataframe\">\n",
              "  <thead>\n",
              "    <tr style=\"text-align: right;\">\n",
              "      <th></th>\n",
              "      <th>water_year</th>\n",
              "      <th>rain_octsep</th>\n",
              "      <th>outflow_octsep</th>\n",
              "      <th>rain_decfeb</th>\n",
              "      <th>outflow_decfeb</th>\n",
              "      <th>rain_junaug</th>\n",
              "      <th>outflow_junaug</th>\n",
              "    </tr>\n",
              "  </thead>\n",
              "  <tbody>\n",
              "    <tr>\n",
              "      <th>0</th>\n",
              "      <td>1980</td>\n",
              "      <td>1182</td>\n",
              "      <td>5408</td>\n",
              "      <td>292</td>\n",
              "      <td>7248</td>\n",
              "      <td>174</td>\n",
              "      <td>2212</td>\n",
              "    </tr>\n",
              "    <tr>\n",
              "      <th>32</th>\n",
              "      <td>2012</td>\n",
              "      <td>1090</td>\n",
              "      <td>5329</td>\n",
              "      <td>350</td>\n",
              "      <td>9615</td>\n",
              "      <td>187</td>\n",
              "      <td>1797</td>\n",
              "    </tr>\n",
              "  </tbody>\n",
              "</table>\n",
              "</div>"
            ],
            "text/plain": [
              "    water_year  rain_octsep  ...  rain_junaug  outflow_junaug\n",
              "0         1980         1182  ...          174            2212\n",
              "32        2012         1090  ...          187            1797\n",
              "\n",
              "[2 rows x 7 columns]"
            ]
          },
          "metadata": {
            "tags": []
          },
          "execution_count": 33
        }
      ]
    },
    {
      "cell_type": "markdown",
      "metadata": {
        "id": "mraQ_hJc-Z_Z",
        "colab_type": "text"
      },
      "source": [
        "#### **Outlier**\n",
        "\n",
        "boxplot, winsorizing"
      ]
    },
    {
      "cell_type": "markdown",
      "metadata": {
        "id": "-4SNIM9OSRQQ",
        "colab_type": "text"
      },
      "source": [
        "![alt text](https://www.mathsisfun.com/data/images/outlier.svg)<br>\n",
        "![alt text](https://statistics.laerd.com/statistical-guides/img/pearson-6.png)"
      ]
    },
    {
      "cell_type": "code",
      "metadata": {
        "colab_type": "code",
        "id": "-VPqrSomd5fY",
        "colab": {
          "base_uri": "https://localhost:8080/",
          "height": 335
        },
        "outputId": "bf0a889a-6fff-4e51-c19f-af9cbad4651a"
      },
      "source": [
        "import seaborn as sns\n",
        "# Simulate data\n",
        "dt_outlier=np.concatenate([np.random.normal(0,1,1000),np.random.normal(8,1,10)])\n",
        "sns.set_style('whitegrid')\n",
        "sns.distplot(dt_outlier)"
      ],
      "execution_count": null,
      "outputs": [
        {
          "output_type": "stream",
          "text": [
            "/usr/local/lib/python3.6/dist-packages/statsmodels/tools/_testing.py:19: FutureWarning: pandas.util.testing is deprecated. Use the functions in the public API at pandas.testing instead.\n",
            "  import pandas.util.testing as tm\n"
          ],
          "name": "stderr"
        },
        {
          "output_type": "execute_result",
          "data": {
            "text/plain": [
              "<matplotlib.axes._subplots.AxesSubplot at 0x7f36b2903e48>"
            ]
          },
          "metadata": {
            "tags": []
          },
          "execution_count": 34
        },
        {
          "output_type": "display_data",
          "data": {
            "image/png": "[encoded data removed]",
            "text/plain": [
              "<Figure size 432x288 with 1 Axes>"
            ]
          },
          "metadata": {
            "tags": []
          }
        }
      ]
    },
    {
      "cell_type": "markdown",
      "metadata": {
        "id": "CODolxCDSiQv",
        "colab_type": "text"
      },
      "source": [
        "Outlier Detection： Boxplot  <br>\n",
        "Interquartile Range(IQR):\n",
        "IQR= Upper Quantile(Q3) - Lower Quartile(Q1) <br>\n",
        "Lower Limit = Q1 - 1.5 IQR <br>\n",
        "Upper Limit = Q3 + 1.5 IQR <br>\n",
        "![alt text](https://i.stack.imgur.com/mpbTr.gif)\n"
      ]
    },
    {
      "cell_type": "code",
      "metadata": {
        "id": "pIlD3GhuSjwU",
        "colab_type": "code",
        "colab": {
          "base_uri": "https://localhost:8080/",
          "height": 265
        },
        "outputId": "fb0714e3-8b6a-4805-9ca7-ad2c875d0d6f"
      },
      "source": [
        "sns.boxplot(dt_outlier,orient='v')"
      ],
      "execution_count": null,
      "outputs": [
        {
          "output_type": "execute_result",
          "data": {
            "text/plain": [
              "<matplotlib.axes._subplots.AxesSubplot at 0x7f36bde175c0>"
            ]
          },
          "metadata": {
            "tags": []
          },
          "execution_count": 35
        },
        {
          "output_type": "display_data",
          "data": {
            "image/png": "[encoded data removed]",
            "text/plain": [
              "<Figure size 432x288 with 1 Axes>"
            ]
          },
          "metadata": {
            "tags": []
          }
        }
      ]
    },
    {
      "cell_type": "code",
      "metadata": {
        "id": "COGwopQ5Sndz",
        "colab_type": "code",
        "colab": {
          "base_uri": "https://localhost:8080/",
          "height": 265
        },
        "outputId": "3d0c1cf8-60c6-4fb4-9b08-46527fc9993c"
      },
      "source": [
        "# define a function remove outlier using IQR\n",
        "def iqr_outlier_rm(dt_input):\n",
        "  lq,uq=np.percentile(dt_input,[25,75])\n",
        "  lower_l=lq - 1.5*(uq-lq)\n",
        "  upper_l=uq + 1.5*(uq-lq)\n",
        "  return dt_input[(dt_input > lower_l)&(dt_input < upper_l)]\n",
        "  \n",
        "dt_outlier_ws=iqr_outlier_rm(dt_outlier)\n",
        "sns.boxplot(dt_outlier_ws,orient='v')"
      ],
      "execution_count": null,
      "outputs": [
        {
          "output_type": "execute_result",
          "data": {
            "text/plain": [
              "<matplotlib.axes._subplots.AxesSubplot at 0x7f36b1e0b978>"
            ]
          },
          "metadata": {
            "tags": []
          },
          "execution_count": 36
        },
        {
          "output_type": "display_data",
          "data": {
            "image/png": "[encoded data removed]",
            "text/plain": [
              "<Figure size 432x288 with 1 Axes>"
            ]
          },
          "metadata": {
            "tags": []
          }
        }
      ]
    },
    {
      "cell_type": "markdown",
      "metadata": {
        "id": "CSZGjd_q_ASw",
        "colab_type": "text"
      },
      "source": [
        "#### **Missing Value**"
      ]
    },
    {
      "cell_type": "code",
      "metadata": {
        "id": "FtafT2qOVIUd",
        "colab_type": "code",
        "colab": {}
      },
      "source": [
        "# create a dictionary\n",
        "raw_data = {'name': ['Jason', np.nan, 'Mike', 'Rayman', 'Alex', 'Meimei'], \n",
        "        'age': [36, np.nan, 36, 18, 36, 16], \n",
        "        'gender': ['m', np.nan, 'm', np.nan, 'f', 'f'], \n",
        "        'preMLScore': [1, np.nan, np.nan, 2, 3, 90],\n",
        "        'postMLScore': [65, np.nan, np.nan, 62, 70, 100]}\n",
        "\n",
        "# create a dataframe by passing a dictionary\n",
        "df = pd.DataFrame(raw_data, columns = ['name', 'age', 'gender', 'preMLScore', 'postMLScore'])"
      ],
      "execution_count": null,
      "outputs": []
    },
    {
      "cell_type": "code",
      "metadata": {
        "id": "NGWz3l__WoXy",
        "colab_type": "code",
        "colab": {
          "base_uri": "https://localhost:8080/",
          "height": 225
        },
        "outputId": "21ef695d-cf0a-4cf6-e709-bf8dfdee6c63"
      },
      "source": [
        "df"
      ],
      "execution_count": null,
      "outputs": [
        {
          "output_type": "execute_result",
          "data": {
            "text/html": [
              "<div>\n",
              "<style scoped>\n",
              "    .dataframe tbody tr th:only-of-type {\n",
              "        vertical-align: middle;\n",
              "    }\n",
              "\n",
              "    .dataframe tbody tr th {\n",
              "        vertical-align: top;\n",
              "    }\n",
              "\n",
              "    .dataframe thead th {\n",
              "        text-align: right;\n",
              "    }\n",
              "</style>\n",
              "<table border=\"1\" class=\"dataframe\">\n",
              "  <thead>\n",
              "    <tr style=\"text-align: right;\">\n",
              "      <th></th>\n",
              "      <th>name</th>\n",
              "      <th>age</th>\n",
              "      <th>gender</th>\n",
              "      <th>preMLScore</th>\n",
              "      <th>postMLScore</th>\n",
              "    </tr>\n",
              "  </thead>\n",
              "  <tbody>\n",
              "    <tr>\n",
              "      <th>0</th>\n",
              "      <td>Jason</td>\n",
              "      <td>36.0</td>\n",
              "      <td>m</td>\n",
              "      <td>1.0</td>\n",
              "      <td>65.0</td>\n",
              "    </tr>\n",
              "    <tr>\n",
              "      <th>1</th>\n",
              "      <td>NaN</td>\n",
              "      <td>NaN</td>\n",
              "      <td>NaN</td>\n",
              "      <td>NaN</td>\n",
              "      <td>NaN</td>\n",
              "    </tr>\n",
              "    <tr>\n",
              "      <th>2</th>\n",
              "      <td>Mike</td>\n",
              "      <td>36.0</td>\n",
              "      <td>m</td>\n",
              "      <td>NaN</td>\n",
              "      <td>NaN</td>\n",
              "    </tr>\n",
              "    <tr>\n",
              "      <th>3</th>\n",
              "      <td>Rayman</td>\n",
              "      <td>18.0</td>\n",
              "      <td>NaN</td>\n",
              "      <td>2.0</td>\n",
              "      <td>62.0</td>\n",
              "    </tr>\n",
              "    <tr>\n",
              "      <th>4</th>\n",
              "      <td>Alex</td>\n",
              "      <td>36.0</td>\n",
              "      <td>f</td>\n",
              "      <td>3.0</td>\n",
              "      <td>70.0</td>\n",
              "    </tr>\n",
              "    <tr>\n",
              "      <th>5</th>\n",
              "      <td>Meimei</td>\n",
              "      <td>16.0</td>\n",
              "      <td>f</td>\n",
              "      <td>90.0</td>\n",
              "      <td>100.0</td>\n",
              "    </tr>\n",
              "  </tbody>\n",
              "</table>\n",
              "</div>"
            ],
            "text/plain": [
              "     name   age gender  preMLScore  postMLScore\n",
              "0   Jason  36.0      m         1.0         65.0\n",
              "1     NaN   NaN    NaN         NaN          NaN\n",
              "2    Mike  36.0      m         NaN          NaN\n",
              "3  Rayman  18.0    NaN         2.0         62.0\n",
              "4    Alex  36.0      f         3.0         70.0\n",
              "5  Meimei  16.0      f        90.0        100.0"
            ]
          },
          "metadata": {
            "tags": []
          },
          "execution_count": 38
        }
      ]
    },
    {
      "cell_type": "markdown",
      "metadata": {
        "id": "I0yYJ-nEYEJ9",
        "colab_type": "text"
      },
      "source": [
        "##### **Detect missing values**"
      ]
    },
    {
      "cell_type": "code",
      "metadata": {
        "id": "HF5Cc9pIYM7h",
        "colab_type": "code",
        "colab": {
          "base_uri": "https://localhost:8080/",
          "height": 218
        },
        "outputId": "84204ecb-ef8f-4f14-d2f7-93f495850a82"
      },
      "source": [
        "df.info() # the overview information for the dataframe"
      ],
      "execution_count": null,
      "outputs": [
        {
          "output_type": "stream",
          "text": [
            "<class 'pandas.core.frame.DataFrame'>\n",
            "RangeIndex: 6 entries, 0 to 5\n",
            "Data columns (total 5 columns):\n",
            " #   Column       Non-Null Count  Dtype  \n",
            "---  ------       --------------  -----  \n",
            " 0   name         5 non-null      object \n",
            " 1   age          5 non-null      float64\n",
            " 2   gender       4 non-null      object \n",
            " 3   preMLScore   4 non-null      float64\n",
            " 4   postMLScore  4 non-null      float64\n",
            "dtypes: float64(3), object(2)\n",
            "memory usage: 368.0+ bytes\n"
          ],
          "name": "stdout"
        }
      ]
    },
    {
      "cell_type": "code",
      "metadata": {
        "id": "gVtymK3JYVq-",
        "colab_type": "code",
        "colab": {
          "base_uri": "https://localhost:8080/",
          "height": 284
        },
        "outputId": "679e0269-5467-41cf-befb-0a1d60b8c098"
      },
      "source": [
        "df.describe() # basic stats"
      ],
      "execution_count": null,
      "outputs": [
        {
          "output_type": "execute_result",
          "data": {
            "text/html": [
              "<div>\n",
              "<style scoped>\n",
              "    .dataframe tbody tr th:only-of-type {\n",
              "        vertical-align: middle;\n",
              "    }\n",
              "\n",
              "    .dataframe tbody tr th {\n",
              "        vertical-align: top;\n",
              "    }\n",
              "\n",
              "    .dataframe thead th {\n",
              "        text-align: right;\n",
              "    }\n",
              "</style>\n",
              "<table border=\"1\" class=\"dataframe\">\n",
              "  <thead>\n",
              "    <tr style=\"text-align: right;\">\n",
              "      <th></th>\n",
              "      <th>age</th>\n",
              "      <th>preMLScore</th>\n",
              "      <th>postMLScore</th>\n",
              "    </tr>\n",
              "  </thead>\n",
              "  <tbody>\n",
              "    <tr>\n",
              "      <th>count</th>\n",
              "      <td>5.000000</td>\n",
              "      <td>4.000000</td>\n",
              "      <td>4.000000</td>\n",
              "    </tr>\n",
              "    <tr>\n",
              "      <th>mean</th>\n",
              "      <td>28.400000</td>\n",
              "      <td>24.000000</td>\n",
              "      <td>74.250000</td>\n",
              "    </tr>\n",
              "    <tr>\n",
              "      <th>std</th>\n",
              "      <td>10.430724</td>\n",
              "      <td>44.007575</td>\n",
              "      <td>17.480942</td>\n",
              "    </tr>\n",
              "    <tr>\n",
              "      <th>min</th>\n",
              "      <td>16.000000</td>\n",
              "      <td>1.000000</td>\n",
              "      <td>62.000000</td>\n",
              "    </tr>\n",
              "    <tr>\n",
              "      <th>25%</th>\n",
              "      <td>18.000000</td>\n",
              "      <td>1.750000</td>\n",
              "      <td>64.250000</td>\n",
              "    </tr>\n",
              "    <tr>\n",
              "      <th>50%</th>\n",
              "      <td>36.000000</td>\n",
              "      <td>2.500000</td>\n",
              "      <td>67.500000</td>\n",
              "    </tr>\n",
              "    <tr>\n",
              "      <th>75%</th>\n",
              "      <td>36.000000</td>\n",
              "      <td>24.750000</td>\n",
              "      <td>77.500000</td>\n",
              "    </tr>\n",
              "    <tr>\n",
              "      <th>max</th>\n",
              "      <td>36.000000</td>\n",
              "      <td>90.000000</td>\n",
              "      <td>100.000000</td>\n",
              "    </tr>\n",
              "  </tbody>\n",
              "</table>\n",
              "</div>"
            ],
            "text/plain": [
              "             age  preMLScore  postMLScore\n",
              "count   5.000000    4.000000     4.000000\n",
              "mean   28.400000   24.000000    74.250000\n",
              "std    10.430724   44.007575    17.480942\n",
              "min    16.000000    1.000000    62.000000\n",
              "25%    18.000000    1.750000    64.250000\n",
              "50%    36.000000    2.500000    67.500000\n",
              "75%    36.000000   24.750000    77.500000\n",
              "max    36.000000   90.000000   100.000000"
            ]
          },
          "metadata": {
            "tags": []
          },
          "execution_count": 40
        }
      ]
    },
    {
      "cell_type": "code",
      "metadata": {
        "id": "6JAEfE8B8iZt",
        "colab_type": "code",
        "colab": {
          "base_uri": "https://localhost:8080/",
          "height": 225
        },
        "outputId": "dd224363-7025-43ae-880e-4524bcafb252"
      },
      "source": [
        "df.isnull()"
      ],
      "execution_count": null,
      "outputs": [
        {
          "output_type": "execute_result",
          "data": {
            "text/html": [
              "<div>\n",
              "<style scoped>\n",
              "    .dataframe tbody tr th:only-of-type {\n",
              "        vertical-align: middle;\n",
              "    }\n",
              "\n",
              "    .dataframe tbody tr th {\n",
              "        vertical-align: top;\n",
              "    }\n",
              "\n",
              "    .dataframe thead th {\n",
              "        text-align: right;\n",
              "    }\n",
              "</style>\n",
              "<table border=\"1\" class=\"dataframe\">\n",
              "  <thead>\n",
              "    <tr style=\"text-align: right;\">\n",
              "      <th></th>\n",
              "      <th>name</th>\n",
              "      <th>age</th>\n",
              "      <th>gender</th>\n",
              "      <th>preMLScore</th>\n",
              "      <th>postMLScore</th>\n",
              "    </tr>\n",
              "  </thead>\n",
              "  <tbody>\n",
              "    <tr>\n",
              "      <th>0</th>\n",
              "      <td>False</td>\n",
              "      <td>False</td>\n",
              "      <td>False</td>\n",
              "      <td>False</td>\n",
              "      <td>False</td>\n",
              "    </tr>\n",
              "    <tr>\n",
              "      <th>1</th>\n",
              "      <td>True</td>\n",
              "      <td>True</td>\n",
              "      <td>True</td>\n",
              "      <td>True</td>\n",
              "      <td>True</td>\n",
              "    </tr>\n",
              "    <tr>\n",
              "      <th>2</th>\n",
              "      <td>False</td>\n",
              "      <td>False</td>\n",
              "      <td>False</td>\n",
              "      <td>True</td>\n",
              "      <td>True</td>\n",
              "    </tr>\n",
              "    <tr>\n",
              "      <th>3</th>\n",
              "      <td>False</td>\n",
              "      <td>False</td>\n",
              "      <td>True</td>\n",
              "      <td>False</td>\n",
              "      <td>False</td>\n",
              "    </tr>\n",
              "    <tr>\n",
              "      <th>4</th>\n",
              "      <td>False</td>\n",
              "      <td>False</td>\n",
              "      <td>False</td>\n",
              "      <td>False</td>\n",
              "      <td>False</td>\n",
              "    </tr>\n",
              "    <tr>\n",
              "      <th>5</th>\n",
              "      <td>False</td>\n",
              "      <td>False</td>\n",
              "      <td>False</td>\n",
              "      <td>False</td>\n",
              "      <td>False</td>\n",
              "    </tr>\n",
              "  </tbody>\n",
              "</table>\n",
              "</div>"
            ],
            "text/plain": [
              "    name    age  gender  preMLScore  postMLScore\n",
              "0  False  False   False       False        False\n",
              "1   True   True    True        True         True\n",
              "2  False  False   False        True         True\n",
              "3  False  False    True       False        False\n",
              "4  False  False   False       False        False\n",
              "5  False  False   False       False        False"
            ]
          },
          "metadata": {
            "tags": []
          },
          "execution_count": 41
        }
      ]
    },
    {
      "cell_type": "code",
      "metadata": {
        "id": "nSZZgSoPYHeU",
        "colab_type": "code",
        "colab": {
          "base_uri": "https://localhost:8080/",
          "height": 118
        },
        "outputId": "be48a9fd-9cc9-418f-c99a-836a943db7cf"
      },
      "source": [
        "df.isnull().sum() # the number of rows with NaN for each column"
      ],
      "execution_count": null,
      "outputs": [
        {
          "output_type": "execute_result",
          "data": {
            "text/plain": [
              "name           1\n",
              "age            1\n",
              "gender         2\n",
              "preMLScore     2\n",
              "postMLScore    2\n",
              "dtype: int64"
            ]
          },
          "metadata": {
            "tags": []
          },
          "execution_count": 42
        }
      ]
    },
    {
      "cell_type": "code",
      "metadata": {
        "id": "mG4c3z0yxO6a",
        "colab_type": "code",
        "colab": {
          "base_uri": "https://localhost:8080/",
          "height": 118
        },
        "outputId": "33169234-e90f-4f4f-95a6-a98806adae73"
      },
      "source": [
        "df.notnull().sum() # the number of rows without NaN for each column"
      ],
      "execution_count": null,
      "outputs": [
        {
          "output_type": "execute_result",
          "data": {
            "text/plain": [
              "name           5\n",
              "age            5\n",
              "gender         4\n",
              "preMLScore     4\n",
              "postMLScore    4\n",
              "dtype: int64"
            ]
          },
          "metadata": {
            "tags": []
          },
          "execution_count": 43
        }
      ]
    },
    {
      "cell_type": "code",
      "metadata": {
        "id": "c3eHaPvpxhWN",
        "colab_type": "code",
        "colab": {
          "base_uri": "https://localhost:8080/",
          "height": 134
        },
        "outputId": "5285aa94-0cb5-45d2-ee31-3421e2d2a812"
      },
      "source": [
        "df.isnull().all(axis=1) # check if there is NaN row"
      ],
      "execution_count": null,
      "outputs": [
        {
          "output_type": "execute_result",
          "data": {
            "text/plain": [
              "0    False\n",
              "1     True\n",
              "2    False\n",
              "3    False\n",
              "4    False\n",
              "5    False\n",
              "dtype: bool"
            ]
          },
          "metadata": {
            "tags": []
          },
          "execution_count": 44
        }
      ]
    },
    {
      "cell_type": "code",
      "metadata": {
        "id": "klq2EpFAxtbq",
        "colab_type": "code",
        "colab": {
          "base_uri": "https://localhost:8080/",
          "height": 118
        },
        "outputId": "6357f62f-2ec5-4b23-98ad-0fb6d3d13af5"
      },
      "source": [
        "df.isnull().any(axis=0) # check if there is a NaN in a column"
      ],
      "execution_count": null,
      "outputs": [
        {
          "output_type": "execute_result",
          "data": {
            "text/plain": [
              "name           True\n",
              "age            True\n",
              "gender         True\n",
              "preMLScore     True\n",
              "postMLScore    True\n",
              "dtype: bool"
            ]
          },
          "metadata": {
            "tags": []
          },
          "execution_count": 45
        }
      ]
    },
    {
      "cell_type": "markdown",
      "metadata": {
        "id": "50ulS4QNzXtb",
        "colab_type": "text"
      },
      "source": [
        "##### **Handle Missing Values**"
      ]
    },
    {
      "cell_type": "markdown",
      "metadata": {
        "id": "HqpgfkM01neH",
        "colab_type": "text"
      },
      "source": [
        "**Elimination**"
      ]
    },
    {
      "cell_type": "code",
      "metadata": {
        "id": "DEe_KcIjzaEE",
        "colab_type": "code",
        "colab": {
          "base_uri": "https://localhost:8080/",
          "height": 136
        },
        "outputId": "ddc3f9e2-e94c-4579-c4ca-b233a3107513"
      },
      "source": [
        "df.dropna(axis=0) # drop the rows with any NaN, equal to df.dropna(axis=0, how='any')"
      ],
      "execution_count": null,
      "outputs": [
        {
          "output_type": "execute_result",
          "data": {
            "text/html": [
              "<div>\n",
              "<style scoped>\n",
              "    .dataframe tbody tr th:only-of-type {\n",
              "        vertical-align: middle;\n",
              "    }\n",
              "\n",
              "    .dataframe tbody tr th {\n",
              "        vertical-align: top;\n",
              "    }\n",
              "\n",
              "    .dataframe thead th {\n",
              "        text-align: right;\n",
              "    }\n",
              "</style>\n",
              "<table border=\"1\" class=\"dataframe\">\n",
              "  <thead>\n",
              "    <tr style=\"text-align: right;\">\n",
              "      <th></th>\n",
              "      <th>name</th>\n",
              "      <th>age</th>\n",
              "      <th>gender</th>\n",
              "      <th>preMLScore</th>\n",
              "      <th>postMLScore</th>\n",
              "    </tr>\n",
              "  </thead>\n",
              "  <tbody>\n",
              "    <tr>\n",
              "      <th>0</th>\n",
              "      <td>Jason</td>\n",
              "      <td>36.0</td>\n",
              "      <td>m</td>\n",
              "      <td>1.0</td>\n",
              "      <td>65.0</td>\n",
              "    </tr>\n",
              "    <tr>\n",
              "      <th>4</th>\n",
              "      <td>Alex</td>\n",
              "      <td>36.0</td>\n",
              "      <td>f</td>\n",
              "      <td>3.0</td>\n",
              "      <td>70.0</td>\n",
              "    </tr>\n",
              "    <tr>\n",
              "      <th>5</th>\n",
              "      <td>Meimei</td>\n",
              "      <td>16.0</td>\n",
              "      <td>f</td>\n",
              "      <td>90.0</td>\n",
              "      <td>100.0</td>\n",
              "    </tr>\n",
              "  </tbody>\n",
              "</table>\n",
              "</div>"
            ],
            "text/plain": [
              "     name   age gender  preMLScore  postMLScore\n",
              "0   Jason  36.0      m         1.0         65.0\n",
              "4    Alex  36.0      f         3.0         70.0\n",
              "5  Meimei  16.0      f        90.0        100.0"
            ]
          },
          "metadata": {
            "tags": []
          },
          "execution_count": 46
        }
      ]
    },
    {
      "cell_type": "code",
      "metadata": {
        "id": "Wo83IB5d0Bet",
        "colab_type": "code",
        "colab": {
          "base_uri": "https://localhost:8080/",
          "height": 195
        },
        "outputId": "171fa78c-893d-43b9-d8c1-9b8881dc43ab"
      },
      "source": [
        "df.dropna(how='all', inplace=True) # drop the rows that every column is NaN\n",
        "df = df.reset_index(drop=True)\n",
        "df"
      ],
      "execution_count": null,
      "outputs": [
        {
          "output_type": "execute_result",
          "data": {
            "text/html": [
              "<div>\n",
              "<style scoped>\n",
              "    .dataframe tbody tr th:only-of-type {\n",
              "        vertical-align: middle;\n",
              "    }\n",
              "\n",
              "    .dataframe tbody tr th {\n",
              "        vertical-align: top;\n",
              "    }\n",
              "\n",
              "    .dataframe thead th {\n",
              "        text-align: right;\n",
              "    }\n",
              "</style>\n",
              "<table border=\"1\" class=\"dataframe\">\n",
              "  <thead>\n",
              "    <tr style=\"text-align: right;\">\n",
              "      <th></th>\n",
              "      <th>name</th>\n",
              "      <th>age</th>\n",
              "      <th>gender</th>\n",
              "      <th>preMLScore</th>\n",
              "      <th>postMLScore</th>\n",
              "    </tr>\n",
              "  </thead>\n",
              "  <tbody>\n",
              "    <tr>\n",
              "      <th>0</th>\n",
              "      <td>Jason</td>\n",
              "      <td>36.0</td>\n",
              "      <td>m</td>\n",
              "      <td>1.0</td>\n",
              "      <td>65.0</td>\n",
              "    </tr>\n",
              "    <tr>\n",
              "      <th>1</th>\n",
              "      <td>Mike</td>\n",
              "      <td>36.0</td>\n",
              "      <td>m</td>\n",
              "      <td>NaN</td>\n",
              "      <td>NaN</td>\n",
              "    </tr>\n",
              "    <tr>\n",
              "      <th>2</th>\n",
              "      <td>Rayman</td>\n",
              "      <td>18.0</td>\n",
              "      <td>NaN</td>\n",
              "      <td>2.0</td>\n",
              "      <td>62.0</td>\n",
              "    </tr>\n",
              "    <tr>\n",
              "      <th>3</th>\n",
              "      <td>Alex</td>\n",
              "      <td>36.0</td>\n",
              "      <td>f</td>\n",
              "      <td>3.0</td>\n",
              "      <td>70.0</td>\n",
              "    </tr>\n",
              "    <tr>\n",
              "      <th>4</th>\n",
              "      <td>Meimei</td>\n",
              "      <td>16.0</td>\n",
              "      <td>f</td>\n",
              "      <td>90.0</td>\n",
              "      <td>100.0</td>\n",
              "    </tr>\n",
              "  </tbody>\n",
              "</table>\n",
              "</div>"
            ],
            "text/plain": [
              "     name   age gender  preMLScore  postMLScore\n",
              "0   Jason  36.0      m         1.0         65.0\n",
              "1    Mike  36.0      m         NaN          NaN\n",
              "2  Rayman  18.0    NaN         2.0         62.0\n",
              "3    Alex  36.0      f         3.0         70.0\n",
              "4  Meimei  16.0      f        90.0        100.0"
            ]
          },
          "metadata": {
            "tags": []
          },
          "execution_count": 47
        }
      ]
    },
    {
      "cell_type": "code",
      "metadata": {
        "id": "K9Zt5iZC0fnJ",
        "colab_type": "code",
        "colab": {
          "base_uri": "https://localhost:8080/",
          "height": 195
        },
        "outputId": "d11fa3c7-f897-46d6-df9c-589fe0f85183"
      },
      "source": [
        "df['playgames'] = np.nan # add an address column that all the values are NaN\n",
        "df"
      ],
      "execution_count": null,
      "outputs": [
        {
          "output_type": "execute_result",
          "data": {
            "text/html": [
              "<div>\n",
              "<style scoped>\n",
              "    .dataframe tbody tr th:only-of-type {\n",
              "        vertical-align: middle;\n",
              "    }\n",
              "\n",
              "    .dataframe tbody tr th {\n",
              "        vertical-align: top;\n",
              "    }\n",
              "\n",
              "    .dataframe thead th {\n",
              "        text-align: right;\n",
              "    }\n",
              "</style>\n",
              "<table border=\"1\" class=\"dataframe\">\n",
              "  <thead>\n",
              "    <tr style=\"text-align: right;\">\n",
              "      <th></th>\n",
              "      <th>name</th>\n",
              "      <th>age</th>\n",
              "      <th>gender</th>\n",
              "      <th>preMLScore</th>\n",
              "      <th>postMLScore</th>\n",
              "      <th>playgames</th>\n",
              "    </tr>\n",
              "  </thead>\n",
              "  <tbody>\n",
              "    <tr>\n",
              "      <th>0</th>\n",
              "      <td>Jason</td>\n",
              "      <td>36.0</td>\n",
              "      <td>m</td>\n",
              "      <td>1.0</td>\n",
              "      <td>65.0</td>\n",
              "      <td>NaN</td>\n",
              "    </tr>\n",
              "    <tr>\n",
              "      <th>1</th>\n",
              "      <td>Mike</td>\n",
              "      <td>36.0</td>\n",
              "      <td>m</td>\n",
              "      <td>NaN</td>\n",
              "      <td>NaN</td>\n",
              "      <td>NaN</td>\n",
              "    </tr>\n",
              "    <tr>\n",
              "      <th>2</th>\n",
              "      <td>Rayman</td>\n",
              "      <td>18.0</td>\n",
              "      <td>NaN</td>\n",
              "      <td>2.0</td>\n",
              "      <td>62.0</td>\n",
              "      <td>NaN</td>\n",
              "    </tr>\n",
              "    <tr>\n",
              "      <th>3</th>\n",
              "      <td>Alex</td>\n",
              "      <td>36.0</td>\n",
              "      <td>f</td>\n",
              "      <td>3.0</td>\n",
              "      <td>70.0</td>\n",
              "      <td>NaN</td>\n",
              "    </tr>\n",
              "    <tr>\n",
              "      <th>4</th>\n",
              "      <td>Meimei</td>\n",
              "      <td>16.0</td>\n",
              "      <td>f</td>\n",
              "      <td>90.0</td>\n",
              "      <td>100.0</td>\n",
              "      <td>NaN</td>\n",
              "    </tr>\n",
              "  </tbody>\n",
              "</table>\n",
              "</div>"
            ],
            "text/plain": [
              "     name   age gender  preMLScore  postMLScore  playgames\n",
              "0   Jason  36.0      m         1.0         65.0        NaN\n",
              "1    Mike  36.0      m         NaN          NaN        NaN\n",
              "2  Rayman  18.0    NaN         2.0         62.0        NaN\n",
              "3    Alex  36.0      f         3.0         70.0        NaN\n",
              "4  Meimei  16.0      f        90.0        100.0        NaN"
            ]
          },
          "metadata": {
            "tags": []
          },
          "execution_count": 48
        }
      ]
    },
    {
      "cell_type": "code",
      "metadata": {
        "id": "tuQkcpz10vkd",
        "colab_type": "code",
        "colab": {
          "base_uri": "https://localhost:8080/",
          "height": 195
        },
        "outputId": "d92ed9da-ffe5-40fc-ed18-061e342b0fbb"
      },
      "source": [
        "df.dropna(axis=1, how='all') # drop the column that all values are NaN"
      ],
      "execution_count": null,
      "outputs": [
        {
          "output_type": "execute_result",
          "data": {
            "text/html": [
              "<div>\n",
              "<style scoped>\n",
              "    .dataframe tbody tr th:only-of-type {\n",
              "        vertical-align: middle;\n",
              "    }\n",
              "\n",
              "    .dataframe tbody tr th {\n",
              "        vertical-align: top;\n",
              "    }\n",
              "\n",
              "    .dataframe thead th {\n",
              "        text-align: right;\n",
              "    }\n",
              "</style>\n",
              "<table border=\"1\" class=\"dataframe\">\n",
              "  <thead>\n",
              "    <tr style=\"text-align: right;\">\n",
              "      <th></th>\n",
              "      <th>name</th>\n",
              "      <th>age</th>\n",
              "      <th>gender</th>\n",
              "      <th>preMLScore</th>\n",
              "      <th>postMLScore</th>\n",
              "    </tr>\n",
              "  </thead>\n",
              "  <tbody>\n",
              "    <tr>\n",
              "      <th>0</th>\n",
              "      <td>Jason</td>\n",
              "      <td>36.0</td>\n",
              "      <td>m</td>\n",
              "      <td>1.0</td>\n",
              "      <td>65.0</td>\n",
              "    </tr>\n",
              "    <tr>\n",
              "      <th>1</th>\n",
              "      <td>Mike</td>\n",
              "      <td>36.0</td>\n",
              "      <td>m</td>\n",
              "      <td>NaN</td>\n",
              "      <td>NaN</td>\n",
              "    </tr>\n",
              "    <tr>\n",
              "      <th>2</th>\n",
              "      <td>Rayman</td>\n",
              "      <td>18.0</td>\n",
              "      <td>NaN</td>\n",
              "      <td>2.0</td>\n",
              "      <td>62.0</td>\n",
              "    </tr>\n",
              "    <tr>\n",
              "      <th>3</th>\n",
              "      <td>Alex</td>\n",
              "      <td>36.0</td>\n",
              "      <td>f</td>\n",
              "      <td>3.0</td>\n",
              "      <td>70.0</td>\n",
              "    </tr>\n",
              "    <tr>\n",
              "      <th>4</th>\n",
              "      <td>Meimei</td>\n",
              "      <td>16.0</td>\n",
              "      <td>f</td>\n",
              "      <td>90.0</td>\n",
              "      <td>100.0</td>\n",
              "    </tr>\n",
              "  </tbody>\n",
              "</table>\n",
              "</div>"
            ],
            "text/plain": [
              "     name   age gender  preMLScore  postMLScore\n",
              "0   Jason  36.0      m         1.0         65.0\n",
              "1    Mike  36.0      m         NaN          NaN\n",
              "2  Rayman  18.0    NaN         2.0         62.0\n",
              "3    Alex  36.0      f         3.0         70.0\n",
              "4  Meimei  16.0      f        90.0        100.0"
            ]
          },
          "metadata": {
            "tags": []
          },
          "execution_count": 49
        }
      ]
    },
    {
      "cell_type": "code",
      "metadata": {
        "id": "kXchJjD-1K6j",
        "colab_type": "code",
        "colab": {
          "base_uri": "https://localhost:8080/",
          "height": 136
        },
        "outputId": "c676a81f-07be-4a37-96ef-8de7baf332f0"
      },
      "source": [
        "df.dropna(thresh=5) # drop the rows without at least five actual value columns"
      ],
      "execution_count": null,
      "outputs": [
        {
          "output_type": "execute_result",
          "data": {
            "text/html": [
              "<div>\n",
              "<style scoped>\n",
              "    .dataframe tbody tr th:only-of-type {\n",
              "        vertical-align: middle;\n",
              "    }\n",
              "\n",
              "    .dataframe tbody tr th {\n",
              "        vertical-align: top;\n",
              "    }\n",
              "\n",
              "    .dataframe thead th {\n",
              "        text-align: right;\n",
              "    }\n",
              "</style>\n",
              "<table border=\"1\" class=\"dataframe\">\n",
              "  <thead>\n",
              "    <tr style=\"text-align: right;\">\n",
              "      <th></th>\n",
              "      <th>name</th>\n",
              "      <th>age</th>\n",
              "      <th>gender</th>\n",
              "      <th>preMLScore</th>\n",
              "      <th>postMLScore</th>\n",
              "      <th>playgames</th>\n",
              "    </tr>\n",
              "  </thead>\n",
              "  <tbody>\n",
              "    <tr>\n",
              "      <th>0</th>\n",
              "      <td>Jason</td>\n",
              "      <td>36.0</td>\n",
              "      <td>m</td>\n",
              "      <td>1.0</td>\n",
              "      <td>65.0</td>\n",
              "      <td>NaN</td>\n",
              "    </tr>\n",
              "    <tr>\n",
              "      <th>3</th>\n",
              "      <td>Alex</td>\n",
              "      <td>36.0</td>\n",
              "      <td>f</td>\n",
              "      <td>3.0</td>\n",
              "      <td>70.0</td>\n",
              "      <td>NaN</td>\n",
              "    </tr>\n",
              "    <tr>\n",
              "      <th>4</th>\n",
              "      <td>Meimei</td>\n",
              "      <td>16.0</td>\n",
              "      <td>f</td>\n",
              "      <td>90.0</td>\n",
              "      <td>100.0</td>\n",
              "      <td>NaN</td>\n",
              "    </tr>\n",
              "  </tbody>\n",
              "</table>\n",
              "</div>"
            ],
            "text/plain": [
              "     name   age gender  preMLScore  postMLScore  playgames\n",
              "0   Jason  36.0      m         1.0         65.0        NaN\n",
              "3    Alex  36.0      f         3.0         70.0        NaN\n",
              "4  Meimei  16.0      f        90.0        100.0        NaN"
            ]
          },
          "metadata": {
            "tags": []
          },
          "execution_count": 50
        }
      ]
    },
    {
      "cell_type": "markdown",
      "metadata": {
        "id": "TPbQfV4F1rPN",
        "colab_type": "text"
      },
      "source": [
        "**Imputation**"
      ]
    },
    {
      "cell_type": "code",
      "metadata": {
        "id": "hZb8ghjw1uUW",
        "colab_type": "code",
        "colab": {
          "base_uri": "https://localhost:8080/",
          "height": 195
        },
        "outputId": "58299883-54ef-4ddc-88e1-ae5e26646a1b"
      },
      "source": [
        "df.fillna(0) # fill 0 to all missing values"
      ],
      "execution_count": null,
      "outputs": [
        {
          "output_type": "execute_result",
          "data": {
            "text/html": [
              "<div>\n",
              "<style scoped>\n",
              "    .dataframe tbody tr th:only-of-type {\n",
              "        vertical-align: middle;\n",
              "    }\n",
              "\n",
              "    .dataframe tbody tr th {\n",
              "        vertical-align: top;\n",
              "    }\n",
              "\n",
              "    .dataframe thead th {\n",
              "        text-align: right;\n",
              "    }\n",
              "</style>\n",
              "<table border=\"1\" class=\"dataframe\">\n",
              "  <thead>\n",
              "    <tr style=\"text-align: right;\">\n",
              "      <th></th>\n",
              "      <th>name</th>\n",
              "      <th>age</th>\n",
              "      <th>gender</th>\n",
              "      <th>preMLScore</th>\n",
              "      <th>postMLScore</th>\n",
              "      <th>playgames</th>\n",
              "    </tr>\n",
              "  </thead>\n",
              "  <tbody>\n",
              "    <tr>\n",
              "      <th>0</th>\n",
              "      <td>Jason</td>\n",
              "      <td>36.0</td>\n",
              "      <td>m</td>\n",
              "      <td>1.0</td>\n",
              "      <td>65.0</td>\n",
              "      <td>0.0</td>\n",
              "    </tr>\n",
              "    <tr>\n",
              "      <th>1</th>\n",
              "      <td>Mike</td>\n",
              "      <td>36.0</td>\n",
              "      <td>m</td>\n",
              "      <td>0.0</td>\n",
              "      <td>0.0</td>\n",
              "      <td>0.0</td>\n",
              "    </tr>\n",
              "    <tr>\n",
              "      <th>2</th>\n",
              "      <td>Rayman</td>\n",
              "      <td>18.0</td>\n",
              "      <td>0</td>\n",
              "      <td>2.0</td>\n",
              "      <td>62.0</td>\n",
              "      <td>0.0</td>\n",
              "    </tr>\n",
              "    <tr>\n",
              "      <th>3</th>\n",
              "      <td>Alex</td>\n",
              "      <td>36.0</td>\n",
              "      <td>f</td>\n",
              "      <td>3.0</td>\n",
              "      <td>70.0</td>\n",
              "      <td>0.0</td>\n",
              "    </tr>\n",
              "    <tr>\n",
              "      <th>4</th>\n",
              "      <td>Meimei</td>\n",
              "      <td>16.0</td>\n",
              "      <td>f</td>\n",
              "      <td>90.0</td>\n",
              "      <td>100.0</td>\n",
              "      <td>0.0</td>\n",
              "    </tr>\n",
              "  </tbody>\n",
              "</table>\n",
              "</div>"
            ],
            "text/plain": [
              "     name   age gender  preMLScore  postMLScore  playgames\n",
              "0   Jason  36.0      m         1.0         65.0        0.0\n",
              "1    Mike  36.0      m         0.0          0.0        0.0\n",
              "2  Rayman  18.0      0         2.0         62.0        0.0\n",
              "3    Alex  36.0      f         3.0         70.0        0.0\n",
              "4  Meimei  16.0      f        90.0        100.0        0.0"
            ]
          },
          "metadata": {
            "tags": []
          },
          "execution_count": 51
        }
      ]
    },
    {
      "cell_type": "code",
      "metadata": {
        "id": "F4vOA_9F3Aq3",
        "colab_type": "code",
        "colab": {
          "base_uri": "https://localhost:8080/",
          "height": 118
        },
        "outputId": "82e0604c-bd23-44e9-ff71-8c74c6a12061"
      },
      "source": [
        "df.gender.fillna(method='ffill') # carry the forward value to the missing value"
      ],
      "execution_count": null,
      "outputs": [
        {
          "output_type": "execute_result",
          "data": {
            "text/plain": [
              "0    m\n",
              "1    m\n",
              "2    m\n",
              "3    f\n",
              "4    f\n",
              "Name: gender, dtype: object"
            ]
          },
          "metadata": {
            "tags": []
          },
          "execution_count": 52
        }
      ]
    },
    {
      "cell_type": "code",
      "metadata": {
        "id": "40E5q37i3yvy",
        "colab_type": "code",
        "colab": {
          "base_uri": "https://localhost:8080/",
          "height": 118
        },
        "outputId": "2c87647d-6d66-4dc6-bdf2-6c4970c2553c"
      },
      "source": [
        "df.gender.fillna(method='bfill') # carry the backward value to the missing value"
      ],
      "execution_count": null,
      "outputs": [
        {
          "output_type": "execute_result",
          "data": {
            "text/plain": [
              "0    m\n",
              "1    m\n",
              "2    f\n",
              "3    f\n",
              "4    f\n",
              "Name: gender, dtype: object"
            ]
          },
          "metadata": {
            "tags": []
          },
          "execution_count": 53
        }
      ]
    },
    {
      "cell_type": "code",
      "metadata": {
        "id": "NF6LHkE714OL",
        "colab_type": "code",
        "colab": {
          "base_uri": "https://localhost:8080/",
          "height": 195
        },
        "outputId": "ea3d208b-a8e6-4c79-899e-711a6f6f2d58"
      },
      "source": [
        "df[\"preMLScore\"].fillna(df[\"preMLScore\"].median(), inplace=True) # fill preMLScore with its median\n",
        "df"
      ],
      "execution_count": null,
      "outputs": [
        {
          "output_type": "execute_result",
          "data": {
            "text/html": [
              "<div>\n",
              "<style scoped>\n",
              "    .dataframe tbody tr th:only-of-type {\n",
              "        vertical-align: middle;\n",
              "    }\n",
              "\n",
              "    .dataframe tbody tr th {\n",
              "        vertical-align: top;\n",
              "    }\n",
              "\n",
              "    .dataframe thead th {\n",
              "        text-align: right;\n",
              "    }\n",
              "</style>\n",
              "<table border=\"1\" class=\"dataframe\">\n",
              "  <thead>\n",
              "    <tr style=\"text-align: right;\">\n",
              "      <th></th>\n",
              "      <th>name</th>\n",
              "      <th>age</th>\n",
              "      <th>gender</th>\n",
              "      <th>preMLScore</th>\n",
              "      <th>postMLScore</th>\n",
              "      <th>playgames</th>\n",
              "    </tr>\n",
              "  </thead>\n",
              "  <tbody>\n",
              "    <tr>\n",
              "      <th>0</th>\n",
              "      <td>Jason</td>\n",
              "      <td>36.0</td>\n",
              "      <td>m</td>\n",
              "      <td>1.0</td>\n",
              "      <td>65.0</td>\n",
              "      <td>NaN</td>\n",
              "    </tr>\n",
              "    <tr>\n",
              "      <th>1</th>\n",
              "      <td>Mike</td>\n",
              "      <td>36.0</td>\n",
              "      <td>m</td>\n",
              "      <td>2.5</td>\n",
              "      <td>NaN</td>\n",
              "      <td>NaN</td>\n",
              "    </tr>\n",
              "    <tr>\n",
              "      <th>2</th>\n",
              "      <td>Rayman</td>\n",
              "      <td>18.0</td>\n",
              "      <td>NaN</td>\n",
              "      <td>2.0</td>\n",
              "      <td>62.0</td>\n",
              "      <td>NaN</td>\n",
              "    </tr>\n",
              "    <tr>\n",
              "      <th>3</th>\n",
              "      <td>Alex</td>\n",
              "      <td>36.0</td>\n",
              "      <td>f</td>\n",
              "      <td>3.0</td>\n",
              "      <td>70.0</td>\n",
              "      <td>NaN</td>\n",
              "    </tr>\n",
              "    <tr>\n",
              "      <th>4</th>\n",
              "      <td>Meimei</td>\n",
              "      <td>16.0</td>\n",
              "      <td>f</td>\n",
              "      <td>90.0</td>\n",
              "      <td>100.0</td>\n",
              "      <td>NaN</td>\n",
              "    </tr>\n",
              "  </tbody>\n",
              "</table>\n",
              "</div>"
            ],
            "text/plain": [
              "     name   age gender  preMLScore  postMLScore  playgames\n",
              "0   Jason  36.0      m         1.0         65.0        NaN\n",
              "1    Mike  36.0      m         2.5          NaN        NaN\n",
              "2  Rayman  18.0    NaN         2.0         62.0        NaN\n",
              "3    Alex  36.0      f         3.0         70.0        NaN\n",
              "4  Meimei  16.0      f        90.0        100.0        NaN"
            ]
          },
          "metadata": {
            "tags": []
          },
          "execution_count": 54
        }
      ]
    }
  ]
}